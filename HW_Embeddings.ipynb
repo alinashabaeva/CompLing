{
 "cells": [
  {
   "cell_type": "code",
   "execution_count": 3,
   "id": "95c64306",
   "metadata": {},
   "outputs": [
    {
     "name": "stdout",
     "output_type": "stream",
     "text": [
      "Collecting tensorflow\n",
      "  Downloading tensorflow-2.7.0-cp38-cp38-macosx_10_11_x86_64.whl (207.1 MB)\n",
      "\u001b[K     |████████████████████████████████| 207.1 MB 41 kB/s  eta 0:00:01   |█                               | 6.8 MB 1.4 MB/s eta 0:02:23     |███▎                            | 21.4 MB 3.7 MB/s eta 0:00:50     |█████▉                          | 37.7 MB 6.7 MB/s eta 0:00:26     |██████                          | 38.5 MB 6.7 MB/s eta 0:00:26     |█████████▎                      | 59.8 MB 3.8 MB/s eta 0:00:39     |█████████▍                      | 60.6 MB 3.8 MB/s eta 0:00:39     |█████████▊                      | 63.2 MB 3.8 MB/s eta 0:00:38     |██████████████                  | 91.0 MB 5.7 MB/s eta 0:00:21     |██████████████████              | 116.2 MB 3.3 MB/s eta 0:00:28     |█████████████████████▏          | 137.1 MB 6.4 MB/s eta 0:00:11     |███████████████████████         | 149.3 MB 8.2 MB/s eta 0:00:08\n",
      "\u001b[?25hCollecting grpcio<2.0,>=1.24.3\n",
      "  Downloading grpcio-1.43.0-cp38-cp38-macosx_10_10_x86_64.whl (4.2 MB)\n",
      "\u001b[K     |████████████████████████████████| 4.2 MB 12.3 MB/s eta 0:00:01\n",
      "\u001b[?25hCollecting opt-einsum>=2.3.2\n",
      "  Downloading opt_einsum-3.3.0-py3-none-any.whl (65 kB)\n",
      "\u001b[K     |████████████████████████████████| 65 kB 5.1 MB/s  eta 0:00:01\n",
      "\u001b[?25hCollecting gast<0.5.0,>=0.2.1\n",
      "  Downloading gast-0.4.0-py3-none-any.whl (9.8 kB)\n",
      "Collecting keras-preprocessing>=1.1.1\n",
      "  Downloading Keras_Preprocessing-1.1.2-py2.py3-none-any.whl (42 kB)\n",
      "\u001b[K     |████████████████████████████████| 42 kB 1.5 MB/s  eta 0:00:01\n",
      "\u001b[?25hCollecting astunparse>=1.6.0\n",
      "  Downloading astunparse-1.6.3-py2.py3-none-any.whl (12 kB)\n",
      "Collecting absl-py>=0.4.0\n",
      "  Downloading absl_py-1.0.0-py3-none-any.whl (126 kB)\n",
      "\u001b[K     |████████████████████████████████| 126 kB 12.8 MB/s eta 0:00:01\n",
      "\u001b[?25hRequirement already satisfied: six>=1.12.0 in /Users/AlyaMac/opt/anaconda3/lib/python3.8/site-packages (from tensorflow) (1.15.0)\n",
      "Requirement already satisfied: numpy>=1.14.5 in /Users/AlyaMac/opt/anaconda3/lib/python3.8/site-packages (from tensorflow) (1.20.1)\n",
      "Collecting protobuf>=3.9.2\n",
      "  Downloading protobuf-3.19.3-cp38-cp38-macosx_10_9_x86_64.whl (1.0 MB)\n",
      "\u001b[K     |████████████████████████████████| 1.0 MB 8.5 MB/s eta 0:00:01\n",
      "\u001b[?25hCollecting keras<2.8,>=2.7.0rc0\n",
      "  Downloading keras-2.7.0-py2.py3-none-any.whl (1.3 MB)\n",
      "\u001b[K     |████████████████████████████████| 1.3 MB 15.9 MB/s eta 0:00:01\n",
      "\u001b[?25hCollecting tensorflow-estimator<2.8,~=2.7.0rc0\n",
      "  Downloading tensorflow_estimator-2.7.0-py2.py3-none-any.whl (463 kB)\n",
      "\u001b[K     |████████████████████████████████| 463 kB 12.2 MB/s eta 0:00:01\n",
      "\u001b[?25hRequirement already satisfied: wheel<1.0,>=0.32.0 in /Users/AlyaMac/opt/anaconda3/lib/python3.8/site-packages (from tensorflow) (0.36.2)\n",
      "Requirement already satisfied: h5py>=2.9.0 in /Users/AlyaMac/opt/anaconda3/lib/python3.8/site-packages (from tensorflow) (2.10.0)\n",
      "Collecting google-pasta>=0.1.1\n",
      "  Downloading google_pasta-0.2.0-py3-none-any.whl (57 kB)\n",
      "\u001b[K     |████████████████████████████████| 57 kB 4.3 MB/s  eta 0:00:01\n",
      "\u001b[?25hRequirement already satisfied: typing-extensions>=3.6.6 in /Users/AlyaMac/opt/anaconda3/lib/python3.8/site-packages (from tensorflow) (3.7.4.3)\n",
      "Collecting libclang>=9.0.1\n",
      "  Downloading libclang-12.0.0-2-py2.py3-none-macosx_10_9_x86_64.whl (12.2 MB)\n",
      "\u001b[K     |████████████████████████████████| 12.2 MB 5.9 MB/s eta 0:00:01     |██████                          | 2.3 MB 12.0 MB/s eta 0:00:01\n",
      "\u001b[?25hRequirement already satisfied: wrapt>=1.11.0 in /Users/AlyaMac/opt/anaconda3/lib/python3.8/site-packages (from tensorflow) (1.12.1)\n",
      "Requirement already satisfied: termcolor>=1.1.0 in /Users/AlyaMac/opt/anaconda3/lib/python3.8/site-packages (from tensorflow) (1.1.0)\n",
      "Collecting flatbuffers<3.0,>=1.12\n",
      "  Downloading flatbuffers-2.0-py2.py3-none-any.whl (26 kB)\n",
      "Collecting tensorflow-io-gcs-filesystem>=0.21.0\n",
      "  Downloading tensorflow_io_gcs_filesystem-0.23.1-cp38-cp38-macosx_10_14_x86_64.whl (1.6 MB)\n",
      "\u001b[K     |████████████████████████████████| 1.6 MB 19.5 MB/s eta 0:00:01\n",
      "\u001b[?25hCollecting tensorboard~=2.6\n",
      "  Downloading tensorboard-2.8.0-py3-none-any.whl (5.8 MB)\n",
      "\u001b[K     |████████████████████████████████| 5.8 MB 18.5 MB/s eta 0:00:01     |█████▋                          | 1.0 MB 18.5 MB/s eta 0:00:01\n",
      "\u001b[?25hCollecting google-auth-oauthlib<0.5,>=0.4.1\n",
      "  Downloading google_auth_oauthlib-0.4.6-py2.py3-none-any.whl (18 kB)\n",
      "Collecting tensorboard-plugin-wit>=1.6.0\n",
      "  Downloading tensorboard_plugin_wit-1.8.1-py3-none-any.whl (781 kB)\n",
      "\u001b[K     |████████████████████████████████| 781 kB 13.9 MB/s eta 0:00:01\n",
      "\u001b[?25hRequirement already satisfied: requests<3,>=2.21.0 in /Users/AlyaMac/opt/anaconda3/lib/python3.8/site-packages (from tensorboard~=2.6->tensorflow) (2.25.1)\n",
      "Collecting tensorboard-data-server<0.7.0,>=0.6.0\n",
      "  Downloading tensorboard_data_server-0.6.1-py3-none-macosx_10_9_x86_64.whl (3.5 MB)\n",
      "\u001b[K     |████████████████████████████████| 3.5 MB 141 kB/s eta 0:00:01\n",
      "\u001b[?25hCollecting markdown>=2.6.8\n",
      "  Downloading Markdown-3.3.6-py3-none-any.whl (97 kB)\n",
      "\u001b[K     |████████████████████████████████| 97 kB 4.8 MB/s  eta 0:00:01\n",
      "\u001b[?25hCollecting google-auth<3,>=1.6.3\n",
      "  Downloading google_auth-2.3.3-py2.py3-none-any.whl (155 kB)\n",
      "\u001b[K     |████████████████████████████████| 155 kB 10.9 MB/s eta 0:00:01\n",
      "\u001b[?25hRequirement already satisfied: setuptools>=41.0.0 in /Users/AlyaMac/opt/anaconda3/lib/python3.8/site-packages (from tensorboard~=2.6->tensorflow) (52.0.0.post20210125)\n",
      "Requirement already satisfied: werkzeug>=0.11.15 in /Users/AlyaMac/opt/anaconda3/lib/python3.8/site-packages (from tensorboard~=2.6->tensorflow) (1.0.1)\n",
      "Collecting pyasn1-modules>=0.2.1\n",
      "  Downloading pyasn1_modules-0.2.8-py2.py3-none-any.whl (155 kB)\n",
      "\u001b[K     |████████████████████████████████| 155 kB 13.4 MB/s eta 0:00:01\n",
      "\u001b[?25hCollecting rsa<5,>=3.1.4\n",
      "  Downloading rsa-4.8-py3-none-any.whl (39 kB)\n",
      "Collecting cachetools<5.0,>=2.0.0\n",
      "  Downloading cachetools-4.2.4-py3-none-any.whl (10 kB)\n",
      "Requirement already satisfied: requests-oauthlib>=0.7.0 in /Users/AlyaMac/opt/anaconda3/lib/python3.8/site-packages (from google-auth-oauthlib<0.5,>=0.4.1->tensorboard~=2.6->tensorflow) (1.3.0)\n",
      "Collecting importlib-metadata>=4.4\n",
      "  Downloading importlib_metadata-4.10.1-py3-none-any.whl (17 kB)\n",
      "Requirement already satisfied: zipp>=0.5 in /Users/AlyaMac/opt/anaconda3/lib/python3.8/site-packages (from importlib-metadata>=4.4->markdown>=2.6.8->tensorboard~=2.6->tensorflow) (3.4.1)\n",
      "Collecting pyasn1<0.5.0,>=0.4.6\n",
      "  Downloading pyasn1-0.4.8-py2.py3-none-any.whl (77 kB)\n",
      "\u001b[K     |████████████████████████████████| 77 kB 4.7 MB/s eta 0:00:011\n",
      "\u001b[?25hRequirement already satisfied: certifi>=2017.4.17 in /Users/AlyaMac/opt/anaconda3/lib/python3.8/site-packages (from requests<3,>=2.21.0->tensorboard~=2.6->tensorflow) (2020.12.5)\n",
      "Requirement already satisfied: idna<3,>=2.5 in /Users/AlyaMac/opt/anaconda3/lib/python3.8/site-packages (from requests<3,>=2.21.0->tensorboard~=2.6->tensorflow) (2.10)\n",
      "Requirement already satisfied: chardet<5,>=3.0.2 in /Users/AlyaMac/opt/anaconda3/lib/python3.8/site-packages (from requests<3,>=2.21.0->tensorboard~=2.6->tensorflow) (4.0.0)\n",
      "Requirement already satisfied: urllib3<1.27,>=1.21.1 in /Users/AlyaMac/opt/anaconda3/lib/python3.8/site-packages (from requests<3,>=2.21.0->tensorboard~=2.6->tensorflow) (1.26.4)\n",
      "Requirement already satisfied: oauthlib>=3.0.0 in /Users/AlyaMac/opt/anaconda3/lib/python3.8/site-packages (from requests-oauthlib>=0.7.0->google-auth-oauthlib<0.5,>=0.4.1->tensorboard~=2.6->tensorflow) (3.1.1)\n",
      "Installing collected packages: pyasn1, rsa, pyasn1-modules, cachetools, importlib-metadata, google-auth, tensorboard-plugin-wit, tensorboard-data-server, protobuf, markdown, grpcio, google-auth-oauthlib, absl-py, tensorflow-io-gcs-filesystem, tensorflow-estimator, tensorboard, opt-einsum, libclang, keras-preprocessing, keras, google-pasta, gast, flatbuffers, astunparse, tensorflow\n",
      "  Attempting uninstall: importlib-metadata\n",
      "    Found existing installation: importlib-metadata 3.10.0\n",
      "    Uninstalling importlib-metadata-3.10.0:\n",
      "      Successfully uninstalled importlib-metadata-3.10.0\n",
      "Successfully installed absl-py-1.0.0 astunparse-1.6.3 cachetools-4.2.4 flatbuffers-2.0 gast-0.4.0 google-auth-2.3.3 google-auth-oauthlib-0.4.6 google-pasta-0.2.0 grpcio-1.43.0 importlib-metadata-4.10.1 keras-2.7.0 keras-preprocessing-1.1.2 libclang-12.0.0 markdown-3.3.6 opt-einsum-3.3.0 protobuf-3.19.3 pyasn1-0.4.8 pyasn1-modules-0.2.8 rsa-4.8 tensorboard-2.8.0 tensorboard-data-server-0.6.1 tensorboard-plugin-wit-1.8.1 tensorflow-2.7.0 tensorflow-estimator-2.7.0 tensorflow-io-gcs-filesystem-0.23.1\n"
     ]
    }
   ],
   "source": [
    "!pip install tensorflow"
   ]
  },
  {
   "cell_type": "code",
   "execution_count": 3,
   "id": "139b5ac5",
   "metadata": {},
   "outputs": [],
   "source": [
    "import tensorflow as tf\n",
    "import numpy as np\n",
    "import pandas as pd\n",
    "from string import punctuation\n",
    "from sklearn.model_selection import train_test_split\n",
    "from collections import Counter\n",
    "import matplotlib.pyplot as plt\n",
    "from sklearn.decomposition import TruncatedSVD\n",
    "from sklearn.feature_extraction.text import CountVectorizer\n",
    "from sklearn.metrics.pairwise import cosine_distances\n",
    "\n",
    "from IPython.display import Image\n",
    "from IPython.core.display import HTML \n",
    "%matplotlib inline"
   ]
  },
  {
   "cell_type": "markdown",
   "id": "d19fa07c",
   "metadata": {},
   "source": [
    "# Задание 1 (3 балла)"
   ]
  },
  {
   "cell_type": "markdown",
   "id": "f89e8403",
   "metadata": {},
   "source": [
    "Обучите word2vec модели с негативным семплированием (cbow и skip-gram) с помощью tensorflow аналогично тому, как это было сделано в семинаре. Вам нужно изменить следующие пункты: 1) добавьте лемматизацию в предобработку (любым способом)\n",
    "2) измените размер окна на 6 для cbow и 12 для skip gram (обратите внимание, что размер окна = #слов слева + #слов справа, в gen_batches в семинаре window не так используется)\n",
    "3) измените часть с np.random.randint(vocab_size) так, чтобы случайные негативные примеры выбирались обратно пропорционально частотностям слов (частотные должны выбираться реже, а редкие чаще)\n",
    "\n",
    "Выберете несколько не похожих по смыслу слов, и протестируйте полученные эмбединги (найдите ближайшие слова и оцените правильность, как в семинаре)"
   ]
  },
  {
   "cell_type": "code",
   "execution_count": 4,
   "id": "23de27b5",
   "metadata": {},
   "outputs": [],
   "source": [
    "wiki = open('wiki_data.txt').read().split('\\n')"
   ]
  },
  {
   "cell_type": "markdown",
   "id": "502dd6ad",
   "metadata": {},
   "source": [
    "### Prepocessing"
   ]
  },
  {
   "cell_type": "code",
   "execution_count": 5,
   "id": "f88d69ff",
   "metadata": {},
   "outputs": [],
   "source": [
    "import pymorphy2\n",
    "morph = pymorphy2.MorphAnalyzer()"
   ]
  },
  {
   "cell_type": "code",
   "execution_count": 6,
   "id": "bf5e25d6",
   "metadata": {},
   "outputs": [],
   "source": [
    "def lemmatize(token):\n",
    "    return morph.parse(token)[0].normal_form"
   ]
  },
  {
   "cell_type": "code",
   "execution_count": 7,
   "id": "d73e46a2",
   "metadata": {},
   "outputs": [],
   "source": [
    "def preprocess(text):\n",
    "    tokens = text.lower().split()\n",
    "    tokens = [token.strip(punctuation) for token in tokens]\n",
    "    tokens = [lemmatize(token) for token in tokens]\n",
    "    return tokens"
   ]
  },
  {
   "cell_type": "code",
   "execution_count": 8,
   "id": "532d5538",
   "metadata": {},
   "outputs": [],
   "source": [
    "vocab = Counter()\n",
    "\n",
    "for text in wiki:\n",
    "    vocab.update(preprocess(text))"
   ]
  },
  {
   "cell_type": "code",
   "execution_count": 9,
   "id": "2806a918",
   "metadata": {},
   "outputs": [
    {
     "data": {
      "text/plain": [
       "356181"
      ]
     },
     "execution_count": 9,
     "metadata": {},
     "output_type": "execute_result"
    }
   ],
   "source": [
    "len(vocab)"
   ]
  },
  {
   "cell_type": "code",
   "execution_count": 10,
   "id": "58d46603",
   "metadata": {},
   "outputs": [],
   "source": [
    "filtered_vocab = set()\n",
    "\n",
    "for word in vocab:\n",
    "    if vocab[word] > 30:\n",
    "        filtered_vocab.add(word)"
   ]
  },
  {
   "cell_type": "code",
   "execution_count": 11,
   "id": "192a4bbb",
   "metadata": {},
   "outputs": [],
   "source": [
    "word2id = { 'PAD':0}\n",
    "\n",
    "for word in filtered_vocab:\n",
    "    word2id[word] = len(word2id)"
   ]
  },
  {
   "cell_type": "code",
   "execution_count": 12,
   "id": "c269b73e",
   "metadata": {},
   "outputs": [
    {
     "data": {
      "text/plain": [
       "11988"
      ]
     },
     "execution_count": 12,
     "metadata": {},
     "output_type": "execute_result"
    }
   ],
   "source": [
    "len(word2id)"
   ]
  },
  {
   "cell_type": "code",
   "execution_count": 13,
   "id": "937afb46",
   "metadata": {},
   "outputs": [],
   "source": [
    "id2word = {i:word for word, i in word2id.items()}"
   ]
  },
  {
   "cell_type": "code",
   "execution_count": 14,
   "id": "04245d7b",
   "metadata": {},
   "outputs": [
    {
     "data": {
      "text/plain": [
       "11988"
      ]
     },
     "execution_count": 14,
     "metadata": {},
     "output_type": "execute_result"
    }
   ],
   "source": [
    "len(id2word)"
   ]
  },
  {
   "cell_type": "code",
   "execution_count": 15,
   "id": "28353d56",
   "metadata": {},
   "outputs": [],
   "source": [
    "sentences = []\n",
    "\n",
    "for text in wiki:\n",
    "    tokens = preprocess(text)\n",
    "    ids = [word2id[token] for token in tokens if token in word2id]\n",
    "    sentences.append(ids)"
   ]
  },
  {
   "cell_type": "code",
   "execution_count": 16,
   "id": "09925e39",
   "metadata": {},
   "outputs": [],
   "source": [
    "probs = dict()\n",
    "summ = 0\n",
    "for word in word2id.keys():\n",
    "    summ += vocab[word]\n",
    "for word in word2id.keys():\n",
    "    probs[word] = (vocab[word] / summ)"
   ]
  },
  {
   "cell_type": "code",
   "execution_count": 17,
   "id": "ed5836b4",
   "metadata": {},
   "outputs": [
    {
     "data": {
      "text/plain": [
       "11988"
      ]
     },
     "execution_count": 17,
     "metadata": {},
     "output_type": "execute_result"
    }
   ],
   "source": [
    "len(probs)"
   ]
  },
  {
   "cell_type": "code",
   "execution_count": 18,
   "id": "28e98d60",
   "metadata": {},
   "outputs": [],
   "source": [
    "probs_id = dict()\n",
    "for word in id2word.keys():\n",
    "    probs_id[word] = probs[id2word[word]]"
   ]
  },
  {
   "cell_type": "code",
   "execution_count": 19,
   "id": "e13720fd",
   "metadata": {},
   "outputs": [
    {
     "data": {
      "text/plain": [
       "11988"
      ]
     },
     "execution_count": 19,
     "metadata": {},
     "output_type": "execute_result"
    }
   ],
   "source": [
    "len(probs_id)"
   ]
  },
  {
   "cell_type": "code",
   "execution_count": 20,
   "id": "8569aed8",
   "metadata": {},
   "outputs": [],
   "source": [
    "inverse_probability = [(1-x) for x in probs_id.values()]\n",
    "inverse_probability = [x/sum(inverse_probability) for x in inverse_probability]"
   ]
  },
  {
   "cell_type": "code",
   "execution_count": 21,
   "id": "189d9222",
   "metadata": {},
   "outputs": [],
   "source": [
    "from random import random\n",
    "from bisect import bisect"
   ]
  },
  {
   "cell_type": "code",
   "execution_count": 22,
   "id": "789e417b",
   "metadata": {},
   "outputs": [],
   "source": [
    "def weighted_choice(values, weights):\n",
    "    total = 0\n",
    "    cum_weights = []\n",
    "    for w in weights:\n",
    "        total += w\n",
    "        cum_weights.append(total)\n",
    "    x = random() * total\n",
    "    i = bisect(cum_weights, x)\n",
    "    return values[i]"
   ]
  },
  {
   "cell_type": "code",
   "execution_count": 23,
   "id": "b5615207",
   "metadata": {},
   "outputs": [
    {
     "data": {
      "text/plain": [
       "5630"
      ]
     },
     "execution_count": 23,
     "metadata": {},
     "output_type": "execute_result"
    }
   ],
   "source": [
    "weighted_choice(list(probs_id.keys()), inverse_probability)"
   ]
  },
  {
   "cell_type": "markdown",
   "id": "24a6c861",
   "metadata": {},
   "source": [
    "### CBOW"
   ]
  },
  {
   "cell_type": "code",
   "execution_count": 24,
   "id": "46e7f3e4",
   "metadata": {},
   "outputs": [],
   "source": [
    "X = []\n",
    "y = []\n",
    "\n",
    "window = 3\n",
    "for sent in sentences[:10000]:\n",
    "    for i in range(len(sent)-1):\n",
    "        word = sent[i]\n",
    "        context = sent[max(0, i-window):i] + sent[i+1:i+window]\n",
    "        \n",
    "        X.append(context)\n",
    "        y.append(word)"
   ]
  },
  {
   "cell_type": "code",
   "execution_count": 25,
   "id": "6eab3f31",
   "metadata": {},
   "outputs": [],
   "source": [
    "X = tf.keras.preprocessing.sequence.pad_sequences(X, maxlen=10, padding='post')\n",
    "y = np.array(y)"
   ]
  },
  {
   "cell_type": "code",
   "execution_count": 26,
   "id": "0f5af895",
   "metadata": {},
   "outputs": [],
   "source": [
    "def gen_batches_cbow(sentences, probs_id, inverse_probability, window = 3, batch_size=1000):\n",
    "    while True:\n",
    "        X_target = []\n",
    "        X_context = []\n",
    "        y = []\n",
    "\n",
    "        for sent in sentences:\n",
    "            for i in range(len(sent)-1):\n",
    "                word = sent[i]\n",
    "                context = sent[max(0, i-window):i] + sent[i+1:i+window]\n",
    "\n",
    "                X_target.append(word)\n",
    "                X_context.append(context)\n",
    "                y.append(1)\n",
    "\n",
    "                X_target.append(np.random.choice(list(probs_id.keys()), p=list(inverse_probability)))\n",
    "                X_context.append(context)\n",
    "                y.append(0)\n",
    "\n",
    "                if len(X_target) == batch_size:\n",
    "                    X_target = np.array(X_target)\n",
    "                    X_context = tf.keras.preprocessing.sequence.pad_sequences(X_context, maxlen=window*2)\n",
    "                    y = np.array(y)\n",
    "                    yield ((X_target, X_context), y)\n",
    "                    X_target = []\n",
    "                    X_context = []\n",
    "                    y = []"
   ]
  },
  {
   "cell_type": "code",
   "execution_count": 27,
   "id": "56519fe2",
   "metadata": {},
   "outputs": [],
   "source": [
    "inputs_target = tf.keras.layers.Input(shape=(1,))\n",
    "inputs_context = tf.keras.layers.Input(shape=(10,))\n",
    "\n",
    "\n",
    "embeddings_target = tf.keras.layers.Embedding(input_dim=len(word2id), output_dim=300)(inputs_target, )\n",
    "embeddings_context = tf.keras.layers.Embedding(input_dim=len(word2id), output_dim=300)(inputs_context, )\n",
    "\n",
    "target = tf.keras.layers.Flatten()(embeddings_target)\n",
    "context = tf.keras.layers.Lambda(lambda x: tf.keras.backend.sum(x, axis=1))(embeddings_context)\n",
    "dot = tf.keras.layers.Dot(1)([target, context])\n",
    "\n",
    "outputs = tf.keras.layers.Activation(activation='sigmoid')(dot)\n",
    "\n",
    "model_cbow = tf.keras.Model(inputs=[inputs_target, inputs_context], \n",
    "                       outputs=outputs)\n",
    "\n",
    "optimizer = tf.keras.optimizers.Adam(learning_rate=0.001)\n",
    "model.compile(optimizer=optimizer,\n",
    "              loss='binary_crossentropy',\n",
    "              metrics=['accuracy'])"
   ]
  },
  {
   "cell_type": "code",
   "execution_count": 28,
   "id": "f2956b8c",
   "metadata": {},
   "outputs": [
    {
     "name": "stdout",
     "output_type": "stream",
     "text": [
      "Epoch 1/2\n",
      "3000/3000 [==============================] - 3286s 1s/step - loss: 0.3966 - accuracy: 0.8266 - val_loss: 0.3357 - val_accuracy: 0.8605\n",
      "Epoch 2/2\n",
      "3000/3000 [==============================] - 3556s 1s/step - loss: 0.2912 - accuracy: 0.8779 - val_loss: 0.3206 - val_accuracy: 0.8692\n"
     ]
    },
    {
     "data": {
      "text/plain": [
       "<keras.callbacks.History at 0x7fc8cf8806a0>"
      ]
     },
     "execution_count": 28,
     "metadata": {},
     "output_type": "execute_result"
    }
   ],
   "source": [
    "model_cbow.fit(gen_batches_cbow(sentences[:10000], probs_id=probs_id, inverse_probability=inverse_probability, window=3),\n",
    "          validation_data=gen_batches_cbow(sentences[10000:],  probs_id=probs_id, inverse_probability=inverse_probability, window=3),\n",
    "          batch_size=1000,\n",
    "          steps_per_epoch=3000, # сократим кол-во эпох по сравнению с семинарским ноутбоком с целью экономии времени\n",
    "          validation_steps=30,\n",
    "         epochs=2)"
   ]
  },
  {
   "cell_type": "code",
   "execution_count": 29,
   "id": "1b1846ce",
   "metadata": {},
   "outputs": [],
   "source": [
    "def most_similar(word, embeddings):\n",
    "    similar = [id2word[i] for i in \n",
    "               cosine_distances(embeddings[word2id[word]].reshape(1, -1), embeddings).argsort()[0][:10]]\n",
    "    return similar"
   ]
  },
  {
   "cell_type": "code",
   "execution_count": 30,
   "id": "11f0cebb",
   "metadata": {},
   "outputs": [],
   "source": [
    "embeddings_cbow = model_cbow.layers[2].get_weights()[0]"
   ]
  },
  {
   "cell_type": "code",
   "execution_count": 31,
   "id": "6a41f8be",
   "metadata": {},
   "outputs": [
    {
     "data": {
      "text/plain": [
       "array([[-0.09256264, -0.10522221, -0.2423701 , ..., -0.13536435,\n",
       "         0.12548721, -0.27962732],\n",
       "       [ 0.28593484, -0.07321586,  0.2217221 , ..., -0.07241136,\n",
       "        -0.15677617,  0.00050351],\n",
       "       [-0.15464914, -0.25474975,  0.03846047, ..., -0.10691462,\n",
       "         0.04517775, -0.18664397],\n",
       "       ...,\n",
       "       [ 0.01009293, -0.06440275,  0.00217804, ..., -0.08373835,\n",
       "         0.05932606, -0.051391  ],\n",
       "       [-0.01898246, -0.02181384,  0.00190775, ..., -0.12379237,\n",
       "         0.1503148 , -0.01319555],\n",
       "       [ 0.09766469, -0.01888045, -0.08653955, ...,  0.07914654,\n",
       "        -0.08541541, -0.23240344]], dtype=float32)"
      ]
     },
     "execution_count": 31,
     "metadata": {},
     "output_type": "execute_result"
    }
   ],
   "source": [
    "embeddings_cbow"
   ]
  },
  {
   "cell_type": "code",
   "execution_count": 32,
   "id": "0924d0d2",
   "metadata": {},
   "outputs": [
    {
     "data": {
      "text/plain": [
       "['окно',\n",
       " 'вход',\n",
       " 'цилиндр',\n",
       " 'потолок',\n",
       " 'крыша',\n",
       " 'хвост',\n",
       " 'труба',\n",
       " 'шея',\n",
       " 'купол',\n",
       " 'закруглить']"
      ]
     },
     "execution_count": 32,
     "metadata": {},
     "output_type": "execute_result"
    }
   ],
   "source": [
    "most_similar('окно', embeddings_cbow)"
   ]
  },
  {
   "cell_type": "code",
   "execution_count": 33,
   "id": "4ea6578a",
   "metadata": {},
   "outputs": [
    {
     "data": {
      "text/plain": [
       "['кот',\n",
       " 'добродетель',\n",
       " 'морган',\n",
       " 'nature',\n",
       " 'падеж',\n",
       " 'коста',\n",
       " 'лавров',\n",
       " 'эйстейн',\n",
       " 'ужасный',\n",
       " 'син']"
      ]
     },
     "execution_count": 33,
     "metadata": {},
     "output_type": "execute_result"
    }
   ],
   "source": [
    "most_similar('кот', embeddings_cbow)"
   ]
  },
  {
   "cell_type": "code",
   "execution_count": 34,
   "id": "5905a53e",
   "metadata": {},
   "outputs": [
    {
     "data": {
      "text/plain": [
       "['город', 'и', 'который', 'он', 'в', 'год', 'находиться', 'быть', 'они', 'к']"
      ]
     },
     "execution_count": 34,
     "metadata": {},
     "output_type": "execute_result"
    }
   ],
   "source": [
    "most_similar('город', embeddings_cbow)"
   ]
  },
  {
   "cell_type": "markdown",
   "id": "0aa31dc3",
   "metadata": {},
   "source": [
    "### Skip gram "
   ]
  },
  {
   "cell_type": "code",
   "execution_count": 35,
   "id": "7770e400",
   "metadata": {},
   "outputs": [],
   "source": [
    "X = []\n",
    "y = []\n",
    "\n",
    "window = 6\n",
    "for sent in sentences[:1000]:\n",
    "    for i in range(len(sent)-1):\n",
    "        word = sent[i] # target\n",
    "        \n",
    "        context = sent[max(0, i-window):i] + sent[i+1:i+window] \n",
    "\n",
    "        for context_word in context:\n",
    "            X.append(word)\n",
    "            y.append(context_word)"
   ]
  },
  {
   "cell_type": "code",
   "execution_count": 36,
   "id": "af3a671b",
   "metadata": {},
   "outputs": [],
   "source": [
    "def gen_batches_sg(sentences, probs_id, inverse_probability, window = 6, batch_size=1000):\n",
    "    while True:\n",
    "        X_target = []\n",
    "        X_context = []\n",
    "        y = []\n",
    "\n",
    "        for sent in sentences:\n",
    "            for i in range(len(sent)-1):\n",
    "                word = sent[i]\n",
    "                context = sent[max(0, i-window):i] + sent[i+1:i+window]\n",
    "                for context_word in context:\n",
    "                    X_target.append(word)\n",
    "                    X_context.append(context_word)\n",
    "                    y.append(1)\n",
    "                    \n",
    "                    X_target.append(word)\n",
    "                    X_context.append(weighted_choice(list(probs_id.keys()), inverse_probability))\n",
    "                    y.append(0)\n",
    "                    \n",
    "                    if len(X_target) >= batch_size:\n",
    "                        X_target = np.array(X_target)\n",
    "                        X_context = np.array(X_context)\n",
    "                        y = np.array(y)\n",
    "                        yield ((X_target, X_context), y)\n",
    "                        X_target = []\n",
    "                        X_context = []\n",
    "                        y = []"
   ]
  },
  {
   "cell_type": "code",
   "execution_count": 37,
   "id": "c9e5e6dd",
   "metadata": {},
   "outputs": [],
   "source": [
    "inputs_target = tf.keras.layers.Input(shape=(1,))\n",
    "inputs_context = tf.keras.layers.Input(shape=(1,))\n",
    "\n",
    "\n",
    "embeddings_target = tf.keras.layers.Embedding(input_dim=len(word2id), output_dim=300)(inputs_target, )\n",
    "embeddings_context = tf.keras.layers.Embedding(input_dim=len(word2id), output_dim=300)(inputs_context, )\n",
    "\n",
    "target = tf.keras.layers.Flatten()(embeddings_target)\n",
    "context = tf.keras.layers.Flatten()(embeddings_context)\n",
    "\n",
    "dot = tf.keras.layers.Dot(1)([target, context])\n",
    "outputs = tf.keras.layers.Activation(activation='sigmoid')(dot)\n",
    "\n",
    "model_sg = tf.keras.Model(inputs=[inputs_target, inputs_context], \n",
    "                       outputs=outputs)\n",
    "optimizer = tf.keras.optimizers.Adam(learning_rate=0.001)\n",
    "model_sg.compile(optimizer=optimizer,\n",
    "              loss='binary_crossentropy',\n",
    "              metrics=['accuracy'])"
   ]
  },
  {
   "cell_type": "code",
   "execution_count": 38,
   "id": "6a6f324a",
   "metadata": {},
   "outputs": [
    {
     "name": "stdout",
     "output_type": "stream",
     "text": [
      "Epoch 1/2\n",
      "3000/3000 [==============================] - 2564s 855ms/step - loss: 0.4809 - accuracy: 0.7735 - val_loss: 0.4640 - val_accuracy: 0.7869\n",
      "Epoch 2/2\n",
      "3000/3000 [==============================] - 2705s 902ms/step - loss: 0.4336 - accuracy: 0.8085 - val_loss: 0.4776 - val_accuracy: 0.7721\n"
     ]
    },
    {
     "data": {
      "text/plain": [
       "<keras.callbacks.History at 0x7fc8cf75c970>"
      ]
     },
     "execution_count": 38,
     "metadata": {},
     "output_type": "execute_result"
    }
   ],
   "source": [
    "model_sg.fit(gen_batches_sg(sentences[:15000], probs_id=probs_id, inverse_probability=inverse_probability, window=6),\n",
    "          validation_data=gen_batches_sg(sentences[15000:], probs_id=probs_id, inverse_probability=inverse_probability, window=6),\n",
    "          batch_size=1000,\n",
    "          steps_per_epoch=3000, #сократим немного кол-во эпох по сравнению с семинарским ноутбоком с целью экономии времени\n",
    "          validation_steps=30,\n",
    "         epochs=2)"
   ]
  },
  {
   "cell_type": "code",
   "execution_count": 39,
   "id": "777abc92",
   "metadata": {},
   "outputs": [],
   "source": [
    "embeddings_sg = model_sg.layers[2].get_weights()[0]"
   ]
  },
  {
   "cell_type": "code",
   "execution_count": 40,
   "id": "a2b567f4",
   "metadata": {},
   "outputs": [
    {
     "data": {
      "text/plain": [
       "array([[-0.03297827,  0.00696015,  0.0129998 , ..., -0.00722482,\n",
       "         0.03301695, -0.02863163],\n",
       "       [ 0.03992031, -0.12455888,  0.05396245, ..., -0.03331076,\n",
       "        -0.00309054, -0.09687902],\n",
       "       [-0.0291925 , -0.05698509,  0.06512947, ..., -0.07354443,\n",
       "        -0.06891669, -0.04191284],\n",
       "       ...,\n",
       "       [-0.03695882, -0.01447025, -0.0163949 , ..., -0.03749942,\n",
       "        -0.01653888,  0.00991428],\n",
       "       [-0.0038173 , -0.01112171,  0.02686433, ..., -0.03296201,\n",
       "        -0.00583365, -0.04515998],\n",
       "       [ 0.02586286, -0.02370535,  0.00365506, ...,  0.02523389,\n",
       "         0.00619652, -0.02294052]], dtype=float32)"
      ]
     },
     "execution_count": 40,
     "metadata": {},
     "output_type": "execute_result"
    }
   ],
   "source": [
    "embeddings_sg"
   ]
  },
  {
   "cell_type": "code",
   "execution_count": 41,
   "id": "0ae7362e",
   "metadata": {},
   "outputs": [
    {
     "data": {
      "text/plain": [
       "['окно',\n",
       " 'обычно',\n",
       " 'сомнение',\n",
       " 'соответствовать',\n",
       " 'ударный',\n",
       " 'внешний',\n",
       " 'продольный',\n",
       " 'именно',\n",
       " 'размер',\n",
       " 'крыло']"
      ]
     },
     "execution_count": 41,
     "metadata": {},
     "output_type": "execute_result"
    }
   ],
   "source": [
    "most_similar('окно', embeddings_sg)"
   ]
  },
  {
   "cell_type": "code",
   "execution_count": 42,
   "id": "388cea81",
   "metadata": {},
   "outputs": [
    {
     "data": {
      "text/plain": [
       "['кот',\n",
       " 'десяток',\n",
       " 'фрейм',\n",
       " 'белорус',\n",
       " 'алюминий',\n",
       " 'добиваться',\n",
       " 'цин',\n",
       " 'комментатор',\n",
       " 'городище',\n",
       " 'тренироваться']"
      ]
     },
     "execution_count": 42,
     "metadata": {},
     "output_type": "execute_result"
    }
   ],
   "source": [
    "most_similar('кот', embeddings_sg)"
   ]
  },
  {
   "cell_type": "code",
   "execution_count": 43,
   "id": "8480ce64",
   "metadata": {},
   "outputs": [
    {
     "data": {
      "text/plain": [
       "['город',\n",
       " 'село',\n",
       " 'территория',\n",
       " 'район',\n",
       " 'находиться',\n",
       " 'посёлок',\n",
       " 'провинция',\n",
       " 'административный',\n",
       " 'берег',\n",
       " 'центр']"
      ]
     },
     "execution_count": 43,
     "metadata": {},
     "output_type": "execute_result"
    }
   ],
   "source": [
    "most_similar('город', embeddings_sg)"
   ]
  },
  {
   "cell_type": "markdown",
   "id": "37987d52",
   "metadata": {},
   "source": [
    "# Задание 2 (3 балла)"
   ]
  },
  {
   "cell_type": "markdown",
   "id": "c5adfa5a",
   "metadata": {},
   "source": [
    "Обучите 1 word2vec и 1 fastext модель в gensim. В каждой из модели нужно задать все параметры, которые мы разбирали на семинаре. Заданные значения должны отличаться от дефолтных и от тех, что мы использовали на семинаре."
   ]
  },
  {
   "cell_type": "code",
   "execution_count": 44,
   "id": "373dc46d",
   "metadata": {},
   "outputs": [],
   "source": [
    "import gensim"
   ]
  },
  {
   "cell_type": "code",
   "execution_count": 45,
   "id": "9c849e59",
   "metadata": {},
   "outputs": [],
   "source": [
    "wiki = open('wiki_data.txt').read().split('\\n')"
   ]
  },
  {
   "cell_type": "code",
   "execution_count": 46,
   "id": "86c14cfc",
   "metadata": {},
   "outputs": [],
   "source": [
    "texts = [preprocess(sent) for sent in wiki] # такой же preprocessing как в 1 задании (с лемматизацией)"
   ]
  },
  {
   "cell_type": "markdown",
   "id": "cc45cb84",
   "metadata": {},
   "source": [
    "### word2vec"
   ]
  },
  {
   "cell_type": "code",
   "execution_count": 47,
   "id": "2dce4aeb",
   "metadata": {},
   "outputs": [],
   "source": [
    "w2v = gensim.models.Word2Vec(texts)"
   ]
  },
  {
   "cell_type": "code",
   "execution_count": 48,
   "id": "2a2c979f",
   "metadata": {},
   "outputs": [],
   "source": [
    "w2v = gensim.models.Word2Vec(texts, \n",
    "                             vector_size=200, \n",
    "                             min_count=15, \n",
    "                             max_vocab_size=10000,\n",
    "                             ns_exponent=0.95,\n",
    "                             sg=0, \n",
    "                             hs=1,\n",
    "                             negative=7,\n",
    "                             sample=1e-4,\n",
    "                             cbow_mean=2,\n",
    "                             window=4,\n",
    "                             epochs=9)"
   ]
  },
  {
   "cell_type": "code",
   "execution_count": 49,
   "id": "f2853807",
   "metadata": {},
   "outputs": [
    {
     "data": {
      "text/plain": [
       "[('столица', 0.49953484535217285),\n",
       " ('центр', 0.43205347657203674),\n",
       " ('округ', 0.39966070652008057),\n",
       " ('район', 0.3872532844543457),\n",
       " ('городок', 0.38063108921051025),\n",
       " ('посёлок', 0.3792397379875183),\n",
       " ('улица', 0.3671080470085144),\n",
       " ('регион', 0.3664977252483368),\n",
       " ('окраина', 0.35392510890960693),\n",
       " ('будапешт', 0.3382840156555176)]"
      ]
     },
     "execution_count": 49,
     "metadata": {},
     "output_type": "execute_result"
    }
   ],
   "source": [
    "w2v.wv.most_similar('город')"
   ]
  },
  {
   "cell_type": "code",
   "execution_count": 50,
   "id": "b29a28fb",
   "metadata": {},
   "outputs": [
    {
     "data": {
      "text/plain": [
       "[('автомобиль', 0.5627382397651672),\n",
       " ('двигатель', 0.5343623757362366),\n",
       " ('шасси', 0.5189521908760071),\n",
       " ('кузов', 0.4925704896450043),\n",
       " ('модификация', 0.4712277948856354),\n",
       " ('модель', 0.4531000554561615),\n",
       " ('самолёт', 0.4172331392765045),\n",
       " ('мощность', 0.4114226698875427),\n",
       " ('топливо', 0.3959495425224304),\n",
       " ('колесо', 0.39452704787254333)]"
      ]
     },
     "execution_count": 50,
     "metadata": {},
     "output_type": "execute_result"
    }
   ],
   "source": [
    "w2v.wv.most_similar('машина')"
   ]
  },
  {
   "cell_type": "markdown",
   "id": "05bc1aa9",
   "metadata": {},
   "source": [
    "### FastText"
   ]
  },
  {
   "cell_type": "code",
   "execution_count": 51,
   "id": "ba92eeb2",
   "metadata": {},
   "outputs": [],
   "source": [
    "ft = gensim.models.FastText(texts)"
   ]
  },
  {
   "cell_type": "code",
   "execution_count": 52,
   "id": "a2f139c3",
   "metadata": {},
   "outputs": [],
   "source": [
    "ft = gensim.models.FastText(texts, \n",
    "                            min_n=5, \n",
    "                            max_n=9,\n",
    "                            vector_size=200, \n",
    "                            min_count=15, \n",
    "                            max_vocab_size=10000,\n",
    "                            ns_exponent=0.95,\n",
    "                            sg=0, \n",
    "                            hs=1,\n",
    "                            negative=7,\n",
    "                            sample=1e-4,\n",
    "                            cbow_mean=2,\n",
    "                            window=4,\n",
    "                            epochs=9\n",
    "                           )"
   ]
  },
  {
   "cell_type": "code",
   "execution_count": 53,
   "id": "dbf98ab0",
   "metadata": {},
   "outputs": [
    {
     "data": {
      "text/plain": [
       "[('городок', 0.5525912046432495),\n",
       " ('столица', 0.5250776410102844),\n",
       " ('посёлок', 0.5025556683540344),\n",
       " ('окраина', 0.49057963490486145),\n",
       " ('близ', 0.48775985836982727),\n",
       " ('округ', 0.47743314504623413),\n",
       " ('район', 0.4649865925312042),\n",
       " ('провинция', 0.46067169308662415),\n",
       " ('центр', 0.4495885372161865),\n",
       " ('городской', 0.4307197630405426)]"
      ]
     },
     "execution_count": 53,
     "metadata": {},
     "output_type": "execute_result"
    }
   ],
   "source": [
    "ft.wv.most_similar('город')"
   ]
  },
  {
   "cell_type": "code",
   "execution_count": 54,
   "id": "e62ce51b",
   "metadata": {},
   "outputs": [
    {
     "data": {
      "text/plain": [
       "[('шасси', 0.5986820459365845),\n",
       " ('двигатель', 0.5922982096672058),\n",
       " ('кузов', 0.592245876789093),\n",
       " ('автомобиль', 0.5792157053947449),\n",
       " ('самолёт', 0.5024771094322205),\n",
       " ('модификация', 0.48331668972969055),\n",
       " ('модель', 0.4809717535972595),\n",
       " ('установка', 0.4684373736381531),\n",
       " ('топливо', 0.46802735328674316),\n",
       " ('мощность', 0.46682682633399963)]"
      ]
     },
     "execution_count": 54,
     "metadata": {},
     "output_type": "execute_result"
    }
   ],
   "source": [
    "ft.wv.most_similar('машина')"
   ]
  },
  {
   "cell_type": "markdown",
   "id": "e328d042",
   "metadata": {},
   "source": [
    "# Задание 3 (4 балла)"
   ]
  },
  {
   "cell_type": "markdown",
   "id": "d8e94c0f",
   "metadata": {},
   "source": [
    "Используя датасет для классификации (labeled.csv) и простую нейронную сеть (последняя модель в семинаре), оцените качество полученных эмбедингов в задании 1 и 2 (4 набора эмбедингов), также проверьте 1 любую из предобученных моделей с rus-vectores (но только не tayga_upos_skipgram_300_2_2019). Какая модель показывает наилучший результат?\n",
    "\n",
    "Убедитесь, что для каждой модели вы корректно воспроизводите пайплайн предобработки (в 1 задании у вас лемматизация, не забудьте ее применить к датасету для классификации; у выбранной предобученной модели может быть своя специфичная предобработка - ее нужно воспроизвести)"
   ]
  },
  {
   "cell_type": "code",
   "execution_count": 90,
   "id": "fa12b942",
   "metadata": {},
   "outputs": [],
   "source": [
    "data = pd.read_csv('labeled.csv')"
   ]
  },
  {
   "cell_type": "code",
   "execution_count": 92,
   "id": "ef598ebc",
   "metadata": {},
   "outputs": [
    {
     "data": {
      "text/plain": [
       "(14412, 3)"
      ]
     },
     "execution_count": 92,
     "metadata": {},
     "output_type": "execute_result"
    }
   ],
   "source": [
    "data.shape"
   ]
  },
  {
   "cell_type": "markdown",
   "id": "5bb87df7",
   "metadata": {},
   "source": [
    "### Preprocessing"
   ]
  },
  {
   "cell_type": "code",
   "execution_count": 94,
   "id": "30979a20",
   "metadata": {},
   "outputs": [],
   "source": [
    "data['norm_text'] = data.comment.apply(preprocess)"
   ]
  },
  {
   "cell_type": "code",
   "execution_count": 95,
   "id": "5382a533",
   "metadata": {},
   "outputs": [
    {
     "data": {
      "text/html": [
       "<div>\n",
       "<style scoped>\n",
       "    .dataframe tbody tr th:only-of-type {\n",
       "        vertical-align: middle;\n",
       "    }\n",
       "\n",
       "    .dataframe tbody tr th {\n",
       "        vertical-align: top;\n",
       "    }\n",
       "\n",
       "    .dataframe thead th {\n",
       "        text-align: right;\n",
       "    }\n",
       "</style>\n",
       "<table border=\"1\" class=\"dataframe\">\n",
       "  <thead>\n",
       "    <tr style=\"text-align: right;\">\n",
       "      <th></th>\n",
       "      <th>comment</th>\n",
       "      <th>toxic</th>\n",
       "      <th>norm_text</th>\n",
       "    </tr>\n",
       "  </thead>\n",
       "  <tbody>\n",
       "    <tr>\n",
       "      <th>3065</th>\n",
       "      <td>ворона, кар-кар-кар-кар-кар-кар-кар... А петух...</td>\n",
       "      <td>1.0</td>\n",
       "      <td>[ворона, кар-кар-кар-кар-кар-кар-кар, а, петух...</td>\n",
       "    </tr>\n",
       "    <tr>\n",
       "      <th>1481</th>\n",
       "      <td>мне вот интересно: на Большой земле примерно в...</td>\n",
       "      <td>0.0</td>\n",
       "      <td>[я, вот, интересно, на, большой, земля, пример...</td>\n",
       "    </tr>\n",
       "    <tr>\n",
       "      <th>10007</th>\n",
       "      <td>Я ни разу не парашютист, подробности не знаю, ...</td>\n",
       "      <td>0.0</td>\n",
       "      <td>[я, ни, раз, не, парашютист, подробность, не, ...</td>\n",
       "    </tr>\n",
       "    <tr>\n",
       "      <th>8677</th>\n",
       "      <td>Это как раз обычная тема, они в длинные госден...</td>\n",
       "      <td>0.0</td>\n",
       "      <td>[это, как, раз, обычный, тема, они, в, длинный...</td>\n",
       "    </tr>\n",
       "    <tr>\n",
       "      <th>11499</th>\n",
       "      <td>По промышленному дизайну пакеты не подскажу. И...</td>\n",
       "      <td>0.0</td>\n",
       "      <td>[по, промышленный, дизайн, пакет, не, подсказа...</td>\n",
       "    </tr>\n",
       "  </tbody>\n",
       "</table>\n",
       "</div>"
      ],
      "text/plain": [
       "                                                 comment  toxic  \\\n",
       "3065   ворона, кар-кар-кар-кар-кар-кар-кар... А петух...    1.0   \n",
       "1481   мне вот интересно: на Большой земле примерно в...    0.0   \n",
       "10007  Я ни разу не парашютист, подробности не знаю, ...    0.0   \n",
       "8677   Это как раз обычная тема, они в длинные госден...    0.0   \n",
       "11499  По промышленному дизайну пакеты не подскажу. И...    0.0   \n",
       "\n",
       "                                               norm_text  \n",
       "3065   [ворона, кар-кар-кар-кар-кар-кар-кар, а, петух...  \n",
       "1481   [я, вот, интересно, на, большой, земля, пример...  \n",
       "10007  [я, ни, раз, не, парашютист, подробность, не, ...  \n",
       "8677   [это, как, раз, обычный, тема, они, в, длинный...  \n",
       "11499  [по, промышленный, дизайн, пакет, не, подсказа...  "
      ]
     },
     "execution_count": 95,
     "metadata": {},
     "output_type": "execute_result"
    }
   ],
   "source": [
    "data.sample(5)"
   ]
  },
  {
   "cell_type": "code",
   "execution_count": 115,
   "id": "0cc6f1d7",
   "metadata": {},
   "outputs": [],
   "source": [
    "vocab_lab = Counter()\n",
    "\n",
    "for text in data['norm_text']:\n",
    "    vocab_lab.update(text)"
   ]
  },
  {
   "cell_type": "code",
   "execution_count": 116,
   "id": "d0ae3e84",
   "metadata": {},
   "outputs": [
    {
     "data": {
      "text/plain": [
       "37922"
      ]
     },
     "execution_count": 116,
     "metadata": {},
     "output_type": "execute_result"
    }
   ],
   "source": [
    "len(vocab_lab)"
   ]
  },
  {
   "cell_type": "code",
   "execution_count": 127,
   "id": "dae5d5f3",
   "metadata": {},
   "outputs": [],
   "source": [
    "word2id_lab = {'PAD': 0}\n",
    "\n",
    "for word in vocab_lab:\n",
    "    word2id_lab[word] = len(word2id_lab)"
   ]
  },
  {
   "cell_type": "code",
   "execution_count": 128,
   "id": "d385d0da",
   "metadata": {},
   "outputs": [],
   "source": [
    "id2word_lab = {i: word for word, i in word2id_lab.items()}"
   ]
  },
  {
   "cell_type": "code",
   "execution_count": 129,
   "id": "7ebe66ed",
   "metadata": {},
   "outputs": [
    {
     "name": "stdout",
     "output_type": "stream",
     "text": [
      "37923\n",
      "37923\n"
     ]
    }
   ],
   "source": [
    "print(len(word2id_lab)) \n",
    "print(len(id2word_lab))"
   ]
  },
  {
   "cell_type": "code",
   "execution_count": 130,
   "id": "dc861941",
   "metadata": {},
   "outputs": [],
   "source": [
    "X = []\n",
    "for tokens in data['norm_text']:\n",
    "    ids = [word2id_lab[token] for token in tokens if token in word2id_lab]\n",
    "    X.append(ids)"
   ]
  },
  {
   "cell_type": "code",
   "execution_count": 131,
   "id": "5bc7548a",
   "metadata": {},
   "outputs": [],
   "source": [
    "X = tf.keras.preprocessing.sequence.pad_sequences(X, maxlen=100)\n",
    "y = labeled.toxic.values"
   ]
  },
  {
   "cell_type": "code",
   "execution_count": 132,
   "id": "bf78ff7f",
   "metadata": {},
   "outputs": [],
   "source": [
    "X_train, X_valid, y_train, y_valid = train_test_split(X, y, test_size=0.1)"
   ]
  },
  {
   "cell_type": "markdown",
   "id": "9a10d94b",
   "metadata": {},
   "source": [
    "## Эмбеддинги из 1 задания"
   ]
  },
  {
   "cell_type": "markdown",
   "id": "e88f05e6",
   "metadata": {},
   "source": [
    "### CBOW"
   ]
  },
  {
   "cell_type": "code",
   "execution_count": 170,
   "id": "329cca77",
   "metadata": {},
   "outputs": [],
   "source": [
    "weights_cbow = np.zeros((len(word2id_lab), 300))\n",
    "\n",
    "for word, i in word2id_lab.items():\n",
    "\n",
    "    if word == 'PAD':\n",
    "        continue\n",
    "\n",
    "    try:\n",
    "        weights_cbow[i] = embeddings_cbow[word2id[word]]\n",
    "    \n",
    "    except KeyError:\n",
    "        continue\n",
    "        weights_cbow[i] = embeddings_cbow[word2id['опрагпллирао']]"
   ]
  },
  {
   "cell_type": "code",
   "execution_count": 171,
   "id": "677d0146",
   "metadata": {},
   "outputs": [],
   "source": [
    "inputs = tf.keras.layers.Input(shape=(100,))\n",
    "\n",
    "embeddings = tf.keras.layers.Embedding(input_dim=len(word2id_lab), output_dim=300, \n",
    "                                       trainable=False,\n",
    "                                       weights=[weights_cbow])(inputs, )\n",
    "mean = tf.keras.layers.Lambda(lambda x: tf.keras.backend.mean(x,  axis=1))(embeddings)\n",
    "\n",
    "outputs = tf.keras.layers.Dense(1, activation='sigmoid')(mean)\n",
    "\n",
    "model = tf.keras.Model(inputs=inputs, outputs=outputs)\n",
    "optimizer = tf.keras.optimizers.Adam()\n",
    "model.compile(optimizer=optimizer,\n",
    "              loss='binary_crossentropy',\n",
    "              metrics=['accuracy'])"
   ]
  },
  {
   "cell_type": "code",
   "execution_count": 172,
   "id": "d10ebacd",
   "metadata": {},
   "outputs": [
    {
     "name": "stdout",
     "output_type": "stream",
     "text": [
      "Epoch 1/30\n",
      "406/406 [==============================] - 2s 4ms/step - loss: 0.6393 - accuracy: 0.6665 - val_loss: 0.6287 - val_accuracy: 0.6526\n",
      "Epoch 2/30\n",
      "406/406 [==============================] - 1s 3ms/step - loss: 0.6261 - accuracy: 0.6665 - val_loss: 0.6280 - val_accuracy: 0.6526\n",
      "Epoch 3/30\n",
      "406/406 [==============================] - 1s 3ms/step - loss: 0.6251 - accuracy: 0.6665 - val_loss: 0.6276 - val_accuracy: 0.6526\n",
      "Epoch 4/30\n",
      "406/406 [==============================] - 1s 4ms/step - loss: 0.6243 - accuracy: 0.6665 - val_loss: 0.6272 - val_accuracy: 0.6526\n",
      "Epoch 5/30\n",
      "406/406 [==============================] - 1s 3ms/step - loss: 0.6236 - accuracy: 0.6665 - val_loss: 0.6268 - val_accuracy: 0.6526\n",
      "Epoch 6/30\n",
      "406/406 [==============================] - 1s 3ms/step - loss: 0.6230 - accuracy: 0.6665 - val_loss: 0.6263 - val_accuracy: 0.6526\n",
      "Epoch 7/30\n",
      "406/406 [==============================] - 1s 3ms/step - loss: 0.6225 - accuracy: 0.6665 - val_loss: 0.6259 - val_accuracy: 0.6526\n",
      "Epoch 8/30\n",
      "406/406 [==============================] - 1s 3ms/step - loss: 0.6219 - accuracy: 0.6665 - val_loss: 0.6253 - val_accuracy: 0.6526\n",
      "Epoch 9/30\n",
      "406/406 [==============================] - 2s 4ms/step - loss: 0.6214 - accuracy: 0.6665 - val_loss: 0.6248 - val_accuracy: 0.6526\n",
      "Epoch 10/30\n",
      "406/406 [==============================] - 2s 5ms/step - loss: 0.6208 - accuracy: 0.6665 - val_loss: 0.6243 - val_accuracy: 0.6526\n",
      "Epoch 11/30\n",
      "406/406 [==============================] - 1s 4ms/step - loss: 0.6204 - accuracy: 0.6665 - val_loss: 0.6237 - val_accuracy: 0.6526\n",
      "Epoch 12/30\n",
      "406/406 [==============================] - 1s 3ms/step - loss: 0.6199 - accuracy: 0.6665 - val_loss: 0.6231 - val_accuracy: 0.6526\n",
      "Epoch 13/30\n",
      "406/406 [==============================] - 1s 3ms/step - loss: 0.6193 - accuracy: 0.6665 - val_loss: 0.6226 - val_accuracy: 0.6526\n",
      "Epoch 14/30\n",
      "406/406 [==============================] - 1s 3ms/step - loss: 0.6188 - accuracy: 0.6665 - val_loss: 0.6221 - val_accuracy: 0.6526\n",
      "Epoch 15/30\n",
      "406/406 [==============================] - 1s 4ms/step - loss: 0.6184 - accuracy: 0.6665 - val_loss: 0.6216 - val_accuracy: 0.6526\n",
      "Epoch 16/30\n",
      "406/406 [==============================] - 1s 3ms/step - loss: 0.6179 - accuracy: 0.6665 - val_loss: 0.6211 - val_accuracy: 0.6526\n",
      "Epoch 17/30\n",
      "406/406 [==============================] - 1s 3ms/step - loss: 0.6175 - accuracy: 0.6665 - val_loss: 0.6206 - val_accuracy: 0.6526\n",
      "Epoch 18/30\n",
      "406/406 [==============================] - 2s 5ms/step - loss: 0.6170 - accuracy: 0.6665 - val_loss: 0.6201 - val_accuracy: 0.6526\n",
      "Epoch 19/30\n",
      "406/406 [==============================] - 2s 4ms/step - loss: 0.6165 - accuracy: 0.6665 - val_loss: 0.6196 - val_accuracy: 0.6526\n",
      "Epoch 20/30\n",
      "406/406 [==============================] - 1s 4ms/step - loss: 0.6161 - accuracy: 0.6665 - val_loss: 0.6192 - val_accuracy: 0.6526\n",
      "Epoch 21/30\n",
      "406/406 [==============================] - 1s 3ms/step - loss: 0.6157 - accuracy: 0.6665 - val_loss: 0.6187 - val_accuracy: 0.6526\n",
      "Epoch 22/30\n",
      "406/406 [==============================] - 1s 4ms/step - loss: 0.6152 - accuracy: 0.6665 - val_loss: 0.6184 - val_accuracy: 0.6526\n",
      "Epoch 23/30\n",
      "406/406 [==============================] - 2s 4ms/step - loss: 0.6148 - accuracy: 0.6665 - val_loss: 0.6178 - val_accuracy: 0.6526\n",
      "Epoch 24/30\n",
      "406/406 [==============================] - 2s 4ms/step - loss: 0.6144 - accuracy: 0.6665 - val_loss: 0.6174 - val_accuracy: 0.6526\n",
      "Epoch 25/30\n",
      "406/406 [==============================] - 2s 4ms/step - loss: 0.6141 - accuracy: 0.6665 - val_loss: 0.6169 - val_accuracy: 0.6526\n",
      "Epoch 26/30\n",
      "406/406 [==============================] - 2s 4ms/step - loss: 0.6136 - accuracy: 0.6665 - val_loss: 0.6165 - val_accuracy: 0.6526\n",
      "Epoch 27/30\n",
      "406/406 [==============================] - 2s 4ms/step - loss: 0.6133 - accuracy: 0.6665 - val_loss: 0.6161 - val_accuracy: 0.6526\n",
      "Epoch 28/30\n",
      "406/406 [==============================] - 2s 4ms/step - loss: 0.6129 - accuracy: 0.6665 - val_loss: 0.6156 - val_accuracy: 0.6526\n",
      "Epoch 29/30\n",
      "406/406 [==============================] - 2s 5ms/step - loss: 0.6125 - accuracy: 0.6665 - val_loss: 0.6152 - val_accuracy: 0.6526\n",
      "Epoch 30/30\n",
      "406/406 [==============================] - 2s 6ms/step - loss: 0.6121 - accuracy: 0.6665 - val_loss: 0.6148 - val_accuracy: 0.6526\n"
     ]
    },
    {
     "data": {
      "text/plain": [
       "<keras.callbacks.History at 0x7fc87f7b4730>"
      ]
     },
     "execution_count": 172,
     "metadata": {},
     "output_type": "execute_result"
    }
   ],
   "source": [
    "model.fit(X_train, y_train, \n",
    "          validation_data=(X_valid, y_valid),\n",
    "          batch_size=32,\n",
    "          epochs=30)"
   ]
  },
  {
   "cell_type": "code",
   "execution_count": 173,
   "id": "b1b2f810",
   "metadata": {},
   "outputs": [
    {
     "data": {
      "image/png": "[encoded data removed]",
      "text/plain": [
       "<Figure size 432x288 with 1 Axes>"
      ]
     },
     "metadata": {
      "needs_background": "light"
     },
     "output_type": "display_data"
    }
   ],
   "source": [
    "plt.plot(model.history.history['accuracy'])\n",
    "plt.plot(model.history.history['val_accuracy'])\n",
    "plt.title('model accuracy')\n",
    "plt.ylabel('accuracy')\n",
    "plt.xlabel('epoch')\n",
    "plt.legend(['train', 'val'], loc='upper left')\n",
    "plt.show()"
   ]
  },
  {
   "cell_type": "markdown",
   "id": "cbbfd27d",
   "metadata": {},
   "source": [
    "### Skip gram"
   ]
  },
  {
   "cell_type": "code",
   "execution_count": 137,
   "id": "c44ef5c5",
   "metadata": {},
   "outputs": [],
   "source": [
    "weights_sg = np.zeros((len(word2id_lab), 300))\n",
    "\n",
    "for word, i in word2id_lab.items():\n",
    "\n",
    "    if word == 'PAD':\n",
    "        continue\n",
    "\n",
    "    try:\n",
    "        weights_sg[i] = embeddings_sg[word2id[word]]\n",
    "    \n",
    "    except KeyError:\n",
    "        continue\n",
    "        weights_sg[i] = embeddings_sg[word2id['опрагпллирао']]"
   ]
  },
  {
   "cell_type": "code",
   "execution_count": 138,
   "id": "e2905824",
   "metadata": {},
   "outputs": [],
   "source": [
    "inputs = tf.keras.layers.Input(shape=(100,))\n",
    "\n",
    "embeddings = tf.keras.layers.Embedding(input_dim=len(word2id_lab), output_dim=300, \n",
    "                                       trainable=False,\n",
    "                                       weights=[weights_sg])(inputs, )\n",
    "mean = tf.keras.layers.Lambda(lambda x: tf.keras.backend.mean(x,  axis=1))(embeddings)\n",
    "\n",
    "outputs = tf.keras.layers.Dense(1, activation='sigmoid')(mean)\n",
    "\n",
    "model = tf.keras.Model(inputs=inputs, outputs=outputs)\n",
    "optimizer = tf.keras.optimizers.Adam()\n",
    "model.compile(optimizer=optimizer,\n",
    "              loss='binary_crossentropy',\n",
    "              metrics=['accuracy'])"
   ]
  },
  {
   "cell_type": "code",
   "execution_count": 139,
   "id": "cf4f48db",
   "metadata": {},
   "outputs": [
    {
     "name": "stdout",
     "output_type": "stream",
     "text": [
      "Epoch 1/30\n",
      "406/406 [==============================] - 3s 5ms/step - loss: 0.6381 - accuracy: 0.6662 - val_loss: 0.6280 - val_accuracy: 0.6526\n",
      "Epoch 2/30\n",
      "406/406 [==============================] - 2s 5ms/step - loss: 0.6198 - accuracy: 0.6665 - val_loss: 0.6273 - val_accuracy: 0.6526\n",
      "Epoch 3/30\n",
      "406/406 [==============================] - 2s 4ms/step - loss: 0.6195 - accuracy: 0.6665 - val_loss: 0.6272 - val_accuracy: 0.6526\n",
      "Epoch 4/30\n",
      "406/406 [==============================] - 3s 6ms/step - loss: 0.6193 - accuracy: 0.6665 - val_loss: 0.6271 - val_accuracy: 0.6526\n",
      "Epoch 5/30\n",
      "406/406 [==============================] - 2s 5ms/step - loss: 0.6191 - accuracy: 0.6665 - val_loss: 0.6269 - val_accuracy: 0.6526\n",
      "Epoch 6/30\n",
      "406/406 [==============================] - 2s 4ms/step - loss: 0.6189 - accuracy: 0.6665 - val_loss: 0.6267 - val_accuracy: 0.6526\n",
      "Epoch 7/30\n",
      "406/406 [==============================] - 2s 4ms/step - loss: 0.6190 - accuracy: 0.6665 - val_loss: 0.6266 - val_accuracy: 0.6526\n",
      "Epoch 8/30\n",
      "406/406 [==============================] - 2s 4ms/step - loss: 0.6188 - accuracy: 0.6665 - val_loss: 0.6265 - val_accuracy: 0.6526\n",
      "Epoch 9/30\n",
      "406/406 [==============================] - 2s 5ms/step - loss: 0.6186 - accuracy: 0.6665 - val_loss: 0.6263 - val_accuracy: 0.6526\n",
      "Epoch 10/30\n",
      "406/406 [==============================] - 2s 5ms/step - loss: 0.6184 - accuracy: 0.6665 - val_loss: 0.6262 - val_accuracy: 0.6526\n",
      "Epoch 11/30\n",
      "406/406 [==============================] - 2s 4ms/step - loss: 0.6183 - accuracy: 0.6665 - val_loss: 0.6262 - val_accuracy: 0.6526\n",
      "Epoch 12/30\n",
      "406/406 [==============================] - 2s 4ms/step - loss: 0.6181 - accuracy: 0.6665 - val_loss: 0.6259 - val_accuracy: 0.6526\n",
      "Epoch 13/30\n",
      "406/406 [==============================] - 2s 4ms/step - loss: 0.6180 - accuracy: 0.6665 - val_loss: 0.6261 - val_accuracy: 0.6526\n",
      "Epoch 14/30\n",
      "406/406 [==============================] - 2s 4ms/step - loss: 0.6179 - accuracy: 0.6665 - val_loss: 0.6256 - val_accuracy: 0.6526\n",
      "Epoch 15/30\n",
      "406/406 [==============================] - 2s 4ms/step - loss: 0.6177 - accuracy: 0.6665 - val_loss: 0.6254 - val_accuracy: 0.6526\n",
      "Epoch 16/30\n",
      "406/406 [==============================] - 2s 4ms/step - loss: 0.6176 - accuracy: 0.6665 - val_loss: 0.6253 - val_accuracy: 0.6526\n",
      "Epoch 17/30\n",
      "406/406 [==============================] - 1s 4ms/step - loss: 0.6174 - accuracy: 0.6665 - val_loss: 0.6253 - val_accuracy: 0.6526\n",
      "Epoch 18/30\n",
      "406/406 [==============================] - 2s 5ms/step - loss: 0.6173 - accuracy: 0.6665 - val_loss: 0.6251 - val_accuracy: 0.6526\n",
      "Epoch 19/30\n",
      "406/406 [==============================] - 2s 6ms/step - loss: 0.6171 - accuracy: 0.6665 - val_loss: 0.6249 - val_accuracy: 0.6526\n",
      "Epoch 20/30\n",
      "406/406 [==============================] - 2s 4ms/step - loss: 0.6170 - accuracy: 0.6665 - val_loss: 0.6248 - val_accuracy: 0.6526\n",
      "Epoch 21/30\n",
      "406/406 [==============================] - 2s 4ms/step - loss: 0.6168 - accuracy: 0.6665 - val_loss: 0.6246 - val_accuracy: 0.6526\n",
      "Epoch 22/30\n",
      "406/406 [==============================] - 2s 4ms/step - loss: 0.6167 - accuracy: 0.6665 - val_loss: 0.6244 - val_accuracy: 0.6526\n",
      "Epoch 23/30\n",
      "406/406 [==============================] - 2s 5ms/step - loss: 0.6165 - accuracy: 0.6665 - val_loss: 0.6242 - val_accuracy: 0.6526\n",
      "Epoch 24/30\n",
      "406/406 [==============================] - 2s 4ms/step - loss: 0.6164 - accuracy: 0.6665 - val_loss: 0.6240 - val_accuracy: 0.6526\n",
      "Epoch 25/30\n",
      "406/406 [==============================] - 2s 4ms/step - loss: 0.6163 - accuracy: 0.6665 - val_loss: 0.6240 - val_accuracy: 0.6526\n",
      "Epoch 26/30\n",
      "406/406 [==============================] - 2s 4ms/step - loss: 0.6161 - accuracy: 0.6665 - val_loss: 0.6239 - val_accuracy: 0.6526\n",
      "Epoch 27/30\n",
      "406/406 [==============================] - 2s 4ms/step - loss: 0.6159 - accuracy: 0.6665 - val_loss: 0.6236 - val_accuracy: 0.6526\n",
      "Epoch 28/30\n",
      "406/406 [==============================] - 2s 4ms/step - loss: 0.6158 - accuracy: 0.6665 - val_loss: 0.6235 - val_accuracy: 0.6526\n",
      "Epoch 29/30\n",
      "406/406 [==============================] - 2s 5ms/step - loss: 0.6157 - accuracy: 0.6665 - val_loss: 0.6234 - val_accuracy: 0.6526\n",
      "Epoch 30/30\n",
      "406/406 [==============================] - 2s 5ms/step - loss: 0.6156 - accuracy: 0.6665 - val_loss: 0.6233 - val_accuracy: 0.6526\n"
     ]
    },
    {
     "data": {
      "text/plain": [
       "<keras.callbacks.History at 0x7fc882b10a90>"
      ]
     },
     "execution_count": 139,
     "metadata": {},
     "output_type": "execute_result"
    }
   ],
   "source": [
    "model.fit(X_train, y_train, \n",
    "          validation_data=(X_valid, y_valid),\n",
    "          batch_size=32,\n",
    "          epochs=30)"
   ]
  },
  {
   "cell_type": "code",
   "execution_count": 140,
   "id": "bf157264",
   "metadata": {},
   "outputs": [
    {
     "data": {
      "image/png": "[encoded data removed]",
      "text/plain": [
       "<Figure size 432x288 with 1 Axes>"
      ]
     },
     "metadata": {
      "needs_background": "light"
     },
     "output_type": "display_data"
    }
   ],
   "source": [
    "plt.plot(model.history.history['accuracy'])\n",
    "plt.plot(model.history.history['val_accuracy'])\n",
    "plt.title('model accuracy')\n",
    "plt.ylabel('accuracy')\n",
    "plt.xlabel('epoch')\n",
    "plt.legend(['train', 'val'], loc='upper left')\n",
    "plt.show()"
   ]
  },
  {
   "cell_type": "markdown",
   "id": "6ec75ba4",
   "metadata": {},
   "source": [
    "Модели не обучаются... Очень плохие результаты. "
   ]
  },
  {
   "cell_type": "markdown",
   "id": "f7999ddb",
   "metadata": {},
   "source": [
    "## Эмбеддинги из 2 задания (gensim)"
   ]
  },
  {
   "cell_type": "markdown",
   "id": "d3878651",
   "metadata": {},
   "source": [
    "### word2vec"
   ]
  },
  {
   "cell_type": "code",
   "execution_count": 141,
   "id": "958f371f",
   "metadata": {},
   "outputs": [],
   "source": [
    "weights_w2v = np.zeros((len(word2id_lab), 200))\n",
    "\n",
    "for word, i in word2id_lab.items():\n",
    "\n",
    "    if word == 'PAD':\n",
    "        continue\n",
    "\n",
    "    try:\n",
    "        weights_w2v[i] = w2v.wv[word]\n",
    "    \n",
    "    except KeyError:\n",
    "        continue\n",
    "        weights_w2v[i] = w2v.wv['опрагпллирао']"
   ]
  },
  {
   "cell_type": "code",
   "execution_count": 142,
   "id": "cf70dd41",
   "metadata": {},
   "outputs": [],
   "source": [
    "inputs = tf.keras.layers.Input(shape=(100,))\n",
    "\n",
    "embeddings = tf.keras.layers.Embedding(input_dim=len(word2id_lab), output_dim=200, \n",
    "                                       trainable=False,\n",
    "                                       weights=[weights_w2v])(inputs, )\n",
    "mean = tf.keras.layers.Lambda(lambda x: tf.keras.backend.mean(x,  axis=1))(embeddings)\n",
    "\n",
    "outputs = tf.keras.layers.Dense(1, activation='sigmoid')(mean)\n",
    "\n",
    "model = tf.keras.Model(inputs=inputs, outputs=outputs)\n",
    "optimizer = tf.keras.optimizers.Adam()\n",
    "model.compile(optimizer=optimizer,\n",
    "              loss='binary_crossentropy',\n",
    "              metrics=['accuracy'])"
   ]
  },
  {
   "cell_type": "code",
   "execution_count": 143,
   "id": "8f0193f8",
   "metadata": {},
   "outputs": [
    {
     "name": "stdout",
     "output_type": "stream",
     "text": [
      "Epoch 1/30\n",
      "406/406 [==============================] - 2s 4ms/step - loss: 0.6304 - accuracy: 0.6652 - val_loss: 0.6185 - val_accuracy: 0.6519\n",
      "Epoch 2/30\n",
      "406/406 [==============================] - 2s 4ms/step - loss: 0.5981 - accuracy: 0.6662 - val_loss: 0.6001 - val_accuracy: 0.6519\n",
      "Epoch 3/30\n",
      "406/406 [==============================] - 2s 4ms/step - loss: 0.5819 - accuracy: 0.6695 - val_loss: 0.5857 - val_accuracy: 0.6574\n",
      "Epoch 4/30\n",
      "406/406 [==============================] - 2s 4ms/step - loss: 0.5694 - accuracy: 0.6749 - val_loss: 0.5747 - val_accuracy: 0.6713\n",
      "Epoch 5/30\n",
      "406/406 [==============================] - 2s 4ms/step - loss: 0.5596 - accuracy: 0.6892 - val_loss: 0.5662 - val_accuracy: 0.6796\n",
      "Epoch 6/30\n",
      "406/406 [==============================] - 1s 4ms/step - loss: 0.5516 - accuracy: 0.7001 - val_loss: 0.5586 - val_accuracy: 0.6921\n",
      "Epoch 7/30\n",
      "406/406 [==============================] - 2s 5ms/step - loss: 0.5449 - accuracy: 0.7081 - val_loss: 0.5523 - val_accuracy: 0.6997\n",
      "Epoch 8/30\n",
      "406/406 [==============================] - 2s 4ms/step - loss: 0.5391 - accuracy: 0.7168 - val_loss: 0.5471 - val_accuracy: 0.7004\n",
      "Epoch 9/30\n",
      "406/406 [==============================] - 2s 4ms/step - loss: 0.5341 - accuracy: 0.7203 - val_loss: 0.5425 - val_accuracy: 0.7060\n",
      "Epoch 10/30\n",
      "406/406 [==============================] - 2s 4ms/step - loss: 0.5296 - accuracy: 0.7245 - val_loss: 0.5383 - val_accuracy: 0.7136\n",
      "Epoch 11/30\n",
      "406/406 [==============================] - 1s 3ms/step - loss: 0.5258 - accuracy: 0.7279 - val_loss: 0.5348 - val_accuracy: 0.7136\n",
      "Epoch 12/30\n",
      "406/406 [==============================] - 1s 4ms/step - loss: 0.5223 - accuracy: 0.7311 - val_loss: 0.5318 - val_accuracy: 0.7136\n",
      "Epoch 13/30\n",
      "406/406 [==============================] - 2s 4ms/step - loss: 0.5193 - accuracy: 0.7319 - val_loss: 0.5288 - val_accuracy: 0.7171\n",
      "Epoch 14/30\n",
      "406/406 [==============================] - 1s 4ms/step - loss: 0.5164 - accuracy: 0.7343 - val_loss: 0.5262 - val_accuracy: 0.7178\n",
      "Epoch 15/30\n",
      "406/406 [==============================] - 1s 4ms/step - loss: 0.5139 - accuracy: 0.7362 - val_loss: 0.5238 - val_accuracy: 0.7205\n",
      "Epoch 16/30\n",
      "406/406 [==============================] - 2s 5ms/step - loss: 0.5115 - accuracy: 0.7380 - val_loss: 0.5217 - val_accuracy: 0.7184\n",
      "Epoch 17/30\n",
      "406/406 [==============================] - 2s 4ms/step - loss: 0.5094 - accuracy: 0.7393 - val_loss: 0.5197 - val_accuracy: 0.7164\n",
      "Epoch 18/30\n",
      "406/406 [==============================] - 2s 4ms/step - loss: 0.5075 - accuracy: 0.7417 - val_loss: 0.5179 - val_accuracy: 0.7171\n",
      "Epoch 19/30\n",
      "406/406 [==============================] - 2s 5ms/step - loss: 0.5056 - accuracy: 0.7436 - val_loss: 0.5165 - val_accuracy: 0.7178\n",
      "Epoch 20/30\n",
      "406/406 [==============================] - 2s 4ms/step - loss: 0.5039 - accuracy: 0.7439 - val_loss: 0.5147 - val_accuracy: 0.7212\n",
      "Epoch 21/30\n",
      "406/406 [==============================] - 2s 4ms/step - loss: 0.5024 - accuracy: 0.7461 - val_loss: 0.5133 - val_accuracy: 0.7191\n",
      "Epoch 22/30\n",
      "406/406 [==============================] - 2s 4ms/step - loss: 0.5009 - accuracy: 0.7479 - val_loss: 0.5121 - val_accuracy: 0.7212\n",
      "Epoch 23/30\n",
      "406/406 [==============================] - 2s 4ms/step - loss: 0.4996 - accuracy: 0.7490 - val_loss: 0.5108 - val_accuracy: 0.7219\n",
      "Epoch 24/30\n",
      "406/406 [==============================] - 2s 5ms/step - loss: 0.4984 - accuracy: 0.7500 - val_loss: 0.5097 - val_accuracy: 0.7212\n",
      "Epoch 25/30\n",
      "406/406 [==============================] - 2s 4ms/step - loss: 0.4971 - accuracy: 0.7505 - val_loss: 0.5085 - val_accuracy: 0.7226\n",
      "Epoch 26/30\n",
      "406/406 [==============================] - 2s 4ms/step - loss: 0.4960 - accuracy: 0.7531 - val_loss: 0.5078 - val_accuracy: 0.7212\n",
      "Epoch 27/30\n",
      "406/406 [==============================] - 2s 5ms/step - loss: 0.4950 - accuracy: 0.7525 - val_loss: 0.5065 - val_accuracy: 0.7233\n",
      "Epoch 28/30\n",
      "406/406 [==============================] - 2s 5ms/step - loss: 0.4940 - accuracy: 0.7543 - val_loss: 0.5056 - val_accuracy: 0.7240\n",
      "Epoch 29/30\n",
      "406/406 [==============================] - 2s 4ms/step - loss: 0.4930 - accuracy: 0.7544 - val_loss: 0.5047 - val_accuracy: 0.7254\n",
      "Epoch 30/30\n",
      "406/406 [==============================] - 1s 3ms/step - loss: 0.4921 - accuracy: 0.7570 - val_loss: 0.5039 - val_accuracy: 0.7254\n"
     ]
    },
    {
     "data": {
      "text/plain": [
       "<keras.callbacks.History at 0x7fc882ad1430>"
      ]
     },
     "execution_count": 143,
     "metadata": {},
     "output_type": "execute_result"
    }
   ],
   "source": [
    "model.fit(X_train, y_train, \n",
    "          validation_data=(X_valid, y_valid),\n",
    "          batch_size=32,\n",
    "          epochs=30)"
   ]
  },
  {
   "cell_type": "code",
   "execution_count": 144,
   "id": "9e5eef06",
   "metadata": {},
   "outputs": [
    {
     "data": {
      "image/png": "[encoded data removed]",
      "text/plain": [
       "<Figure size 432x288 with 1 Axes>"
      ]
     },
     "metadata": {
      "needs_background": "light"
     },
     "output_type": "display_data"
    }
   ],
   "source": [
    "plt.plot(model.history.history['accuracy'])\n",
    "plt.plot(model.history.history['val_accuracy'])\n",
    "plt.title('model accuracy')\n",
    "plt.ylabel('accuracy')\n",
    "plt.xlabel('epoch')\n",
    "plt.legend(['train', 'val'], loc='upper left')\n",
    "plt.show()"
   ]
  },
  {
   "cell_type": "markdown",
   "id": "0a83b827",
   "metadata": {},
   "source": [
    "### Fastext"
   ]
  },
  {
   "cell_type": "code",
   "execution_count": 145,
   "id": "1b084eb1",
   "metadata": {},
   "outputs": [],
   "source": [
    "weights_ft = np.zeros((len(word2id_lab), 200))\n",
    "\n",
    "for word, i in word2id_lab.items():\n",
    "\n",
    "    if word == 'PAD':\n",
    "        continue\n",
    "\n",
    "    try:\n",
    "        weights_ft[i] = ft.wv[word]\n",
    "    \n",
    "    except KeyError:\n",
    "        continue\n",
    "        weights_ft[i] = ft.wv['опрагпллирао']"
   ]
  },
  {
   "cell_type": "code",
   "execution_count": 146,
   "id": "17bce61f",
   "metadata": {},
   "outputs": [],
   "source": [
    "inputs = tf.keras.layers.Input(shape=(100,))\n",
    "\n",
    "embeddings = tf.keras.layers.Embedding(input_dim=len(word2id_lab), output_dim=200, \n",
    "                                       trainable=False,\n",
    "                                       weights=[weights_ft])(inputs, )\n",
    "mean = tf.keras.layers.Lambda(lambda x: tf.keras.backend.mean(x,  axis=1))(embeddings)\n",
    "\n",
    "outputs = tf.keras.layers.Dense(1, activation='sigmoid')(mean)\n",
    "\n",
    "model = tf.keras.Model(inputs=inputs, outputs=outputs)\n",
    "optimizer = tf.keras.optimizers.Adam()\n",
    "model.compile(optimizer=optimizer,\n",
    "              loss='binary_crossentropy',\n",
    "              metrics=['accuracy'])"
   ]
  },
  {
   "cell_type": "code",
   "execution_count": 147,
   "id": "a4334236",
   "metadata": {},
   "outputs": [
    {
     "name": "stdout",
     "output_type": "stream",
     "text": [
      "Epoch 1/30\n",
      "406/406 [==============================] - 2s 5ms/step - loss: 0.6201 - accuracy: 0.6556 - val_loss: 0.6071 - val_accuracy: 0.6533\n",
      "Epoch 2/30\n",
      "406/406 [==============================] - 1s 3ms/step - loss: 0.5888 - accuracy: 0.6735 - val_loss: 0.5914 - val_accuracy: 0.6595\n",
      "Epoch 3/30\n",
      "406/406 [==============================] - 1s 3ms/step - loss: 0.5746 - accuracy: 0.6814 - val_loss: 0.5821 - val_accuracy: 0.6671\n",
      "Epoch 4/30\n",
      "406/406 [==============================] - 1s 3ms/step - loss: 0.5649 - accuracy: 0.6909 - val_loss: 0.5723 - val_accuracy: 0.6748\n",
      "Epoch 5/30\n",
      "406/406 [==============================] - 1s 3ms/step - loss: 0.5571 - accuracy: 0.7000 - val_loss: 0.5669 - val_accuracy: 0.6838\n",
      "Epoch 6/30\n",
      "406/406 [==============================] - 1s 3ms/step - loss: 0.5513 - accuracy: 0.7099 - val_loss: 0.5615 - val_accuracy: 0.6872\n",
      "Epoch 7/30\n",
      "406/406 [==============================] - 1s 3ms/step - loss: 0.5462 - accuracy: 0.7160 - val_loss: 0.5584 - val_accuracy: 0.6907\n",
      "Epoch 8/30\n",
      "406/406 [==============================] - 2s 4ms/step - loss: 0.5422 - accuracy: 0.7204 - val_loss: 0.5563 - val_accuracy: 0.6914\n",
      "Epoch 9/30\n",
      "406/406 [==============================] - 2s 4ms/step - loss: 0.5382 - accuracy: 0.7228 - val_loss: 0.5504 - val_accuracy: 0.6990\n",
      "Epoch 10/30\n",
      "406/406 [==============================] - 2s 4ms/step - loss: 0.5351 - accuracy: 0.7270 - val_loss: 0.5471 - val_accuracy: 0.7039\n",
      "Epoch 11/30\n",
      "406/406 [==============================] - 1s 4ms/step - loss: 0.5322 - accuracy: 0.7297 - val_loss: 0.5464 - val_accuracy: 0.7039\n",
      "Epoch 12/30\n",
      "406/406 [==============================] - 1s 4ms/step - loss: 0.5298 - accuracy: 0.7313 - val_loss: 0.5433 - val_accuracy: 0.7074\n",
      "Epoch 13/30\n",
      "406/406 [==============================] - 1s 3ms/step - loss: 0.5273 - accuracy: 0.7356 - val_loss: 0.5398 - val_accuracy: 0.7157\n",
      "Epoch 14/30\n",
      "406/406 [==============================] - 2s 4ms/step - loss: 0.5253 - accuracy: 0.7363 - val_loss: 0.5377 - val_accuracy: 0.7164\n",
      "Epoch 15/30\n",
      "406/406 [==============================] - 1s 3ms/step - loss: 0.5235 - accuracy: 0.7383 - val_loss: 0.5360 - val_accuracy: 0.7178\n",
      "Epoch 16/30\n",
      "406/406 [==============================] - 2s 4ms/step - loss: 0.5215 - accuracy: 0.7414 - val_loss: 0.5342 - val_accuracy: 0.7191\n",
      "Epoch 17/30\n",
      "406/406 [==============================] - 2s 4ms/step - loss: 0.5200 - accuracy: 0.7406 - val_loss: 0.5326 - val_accuracy: 0.7240\n",
      "Epoch 18/30\n",
      "406/406 [==============================] - 2s 6ms/step - loss: 0.5186 - accuracy: 0.7430 - val_loss: 0.5314 - val_accuracy: 0.7191\n",
      "Epoch 19/30\n",
      "406/406 [==============================] - 1s 3ms/step - loss: 0.5170 - accuracy: 0.7426 - val_loss: 0.5299 - val_accuracy: 0.7261\n",
      "Epoch 20/30\n",
      "406/406 [==============================] - 1s 4ms/step - loss: 0.5155 - accuracy: 0.7446 - val_loss: 0.5286 - val_accuracy: 0.7240\n",
      "Epoch 21/30\n",
      "406/406 [==============================] - 2s 5ms/step - loss: 0.5145 - accuracy: 0.7449 - val_loss: 0.5287 - val_accuracy: 0.7191\n",
      "Epoch 22/30\n",
      "406/406 [==============================] - 2s 4ms/step - loss: 0.5133 - accuracy: 0.7464 - val_loss: 0.5264 - val_accuracy: 0.7226\n",
      "Epoch 23/30\n",
      "406/406 [==============================] - 1s 3ms/step - loss: 0.5122 - accuracy: 0.7476 - val_loss: 0.5251 - val_accuracy: 0.7254\n",
      "Epoch 24/30\n",
      "406/406 [==============================] - 2s 5ms/step - loss: 0.5115 - accuracy: 0.7490 - val_loss: 0.5243 - val_accuracy: 0.7275\n",
      "Epoch 25/30\n",
      "406/406 [==============================] - 1s 4ms/step - loss: 0.5102 - accuracy: 0.7480 - val_loss: 0.5233 - val_accuracy: 0.7282\n",
      "Epoch 26/30\n",
      "406/406 [==============================] - 1s 4ms/step - loss: 0.5094 - accuracy: 0.7494 - val_loss: 0.5226 - val_accuracy: 0.7330\n",
      "Epoch 27/30\n",
      "406/406 [==============================] - 1s 3ms/step - loss: 0.5085 - accuracy: 0.7502 - val_loss: 0.5217 - val_accuracy: 0.7323\n",
      "Epoch 28/30\n",
      "406/406 [==============================] - 2s 4ms/step - loss: 0.5077 - accuracy: 0.7494 - val_loss: 0.5211 - val_accuracy: 0.7330\n",
      "Epoch 29/30\n",
      "406/406 [==============================] - 1s 3ms/step - loss: 0.5068 - accuracy: 0.7497 - val_loss: 0.5203 - val_accuracy: 0.7351\n",
      "Epoch 30/30\n",
      "406/406 [==============================] - 1s 3ms/step - loss: 0.5061 - accuracy: 0.7502 - val_loss: 0.5197 - val_accuracy: 0.7302\n"
     ]
    },
    {
     "data": {
      "text/plain": [
       "<keras.callbacks.History at 0x7fc882673280>"
      ]
     },
     "execution_count": 147,
     "metadata": {},
     "output_type": "execute_result"
    }
   ],
   "source": [
    "model.fit(X_train, y_train, \n",
    "          validation_data=(X_valid, y_valid),\n",
    "          batch_size=32,\n",
    "          epochs=30)"
   ]
  },
  {
   "cell_type": "code",
   "execution_count": 148,
   "id": "fb717cad",
   "metadata": {},
   "outputs": [
    {
     "data": {
      "image/png": "[encoded data removed]",
      "text/plain": [
       "<Figure size 432x288 with 1 Axes>"
      ]
     },
     "metadata": {
      "needs_background": "light"
     },
     "output_type": "display_data"
    }
   ],
   "source": [
    "plt.plot(model.history.history['accuracy'])\n",
    "plt.plot(model.history.history['val_accuracy'])\n",
    "plt.title('model accuracy')\n",
    "plt.ylabel('accuracy')\n",
    "plt.xlabel('epoch')\n",
    "plt.legend(['train', 'val'], loc='upper left')\n",
    "plt.show()"
   ]
  },
  {
   "cell_type": "markdown",
   "id": "91c5e868",
   "metadata": {},
   "source": [
    "Уже намного лучше, чем предыдущий вариант. "
   ]
  },
  {
   "cell_type": "markdown",
   "id": "c41663ab",
   "metadata": {},
   "source": [
    "## Предобученная модель с Rus vectores"
   ]
  },
  {
   "cell_type": "markdown",
   "id": "2467813f",
   "metadata": {},
   "source": [
    "Скачаем **ruscorpora_upos_cbow_300_20_2019** с rusvectores (https://rusvectores.org/ru/models/)"
   ]
  },
  {
   "cell_type": "code",
   "execution_count": 149,
   "id": "eaaaab00",
   "metadata": {},
   "outputs": [],
   "source": [
    "from pymystem3 import Mystem\n",
    "m = Mystem()"
   ]
  },
  {
   "cell_type": "code",
   "execution_count": 150,
   "id": "3ae6f545",
   "metadata": {},
   "outputs": [],
   "source": [
    "def tag_mystem(text):  # from https://github.com/akutuzov/webvectors/blob/master/preprocessing/rusvectores_tutorial.ipynb\n",
    "\n",
    "    processed = m.analyze(text)\n",
    "    tagged = []\n",
    "    for w in processed:\n",
    "        if \"analysis\" not in w:\n",
    "            continue\n",
    "        \n",
    "        if not len(w[\"analysis\"]):\n",
    "            lemma = w[\"text\"]\n",
    "            pos = \"UNKN\"\n",
    "        else:\n",
    "            lemma = w[\"analysis\"][0][\"lex\"].lower().strip()\n",
    "            pos = w[\"analysis\"][0][\"gr\"].split(',')[0]\n",
    "            pos = pos.split('=')[0].strip()\n",
    "        tagged.append(lemma.lower() + '_' + pos)\n",
    "      \n",
    "    return tagged"
   ]
  },
  {
   "cell_type": "code",
   "execution_count": 151,
   "id": "21651579",
   "metadata": {},
   "outputs": [],
   "source": [
    "from gensim.models import KeyedVectors"
   ]
  },
  {
   "cell_type": "code",
   "execution_count": 152,
   "id": "2912f92a",
   "metadata": {},
   "outputs": [],
   "source": [
    "data['tag_mystem'] = data.comment.apply(tag_mystem)"
   ]
  },
  {
   "cell_type": "code",
   "execution_count": 153,
   "id": "9d637b3b",
   "metadata": {},
   "outputs": [
    {
     "data": {
      "text/html": [
       "<div>\n",
       "<style scoped>\n",
       "    .dataframe tbody tr th:only-of-type {\n",
       "        vertical-align: middle;\n",
       "    }\n",
       "\n",
       "    .dataframe tbody tr th {\n",
       "        vertical-align: top;\n",
       "    }\n",
       "\n",
       "    .dataframe thead th {\n",
       "        text-align: right;\n",
       "    }\n",
       "</style>\n",
       "<table border=\"1\" class=\"dataframe\">\n",
       "  <thead>\n",
       "    <tr style=\"text-align: right;\">\n",
       "      <th></th>\n",
       "      <th>comment</th>\n",
       "      <th>toxic</th>\n",
       "      <th>norm_text</th>\n",
       "      <th>tag_mystem</th>\n",
       "    </tr>\n",
       "  </thead>\n",
       "  <tbody>\n",
       "    <tr>\n",
       "      <th>7496</th>\n",
       "      <td>Я, скажем, если лечу из Германии на Урал, то у...</td>\n",
       "      <td>0.0</td>\n",
       "      <td>[я, скажем, если, лететь, из, германия, на, ур...</td>\n",
       "      <td>[я_SPRO, скажем_ADV, если_CONJ, лететь_V, из_P...</td>\n",
       "    </tr>\n",
       "    <tr>\n",
       "      <th>13230</th>\n",
       "      <td>Первый оратор назвал Россию словом Рашка , а в...</td>\n",
       "      <td>1.0</td>\n",
       "      <td>[первый, оратор, назвать, россия, слово, рашка...</td>\n",
       "      <td>[первый_ANUM, оратор_S, называть_V, россия_S, ...</td>\n",
       "    </tr>\n",
       "    <tr>\n",
       "      <th>12316</th>\n",
       "      <td>Надо проверить свои счета\\n</td>\n",
       "      <td>0.0</td>\n",
       "      <td>[надо, проверить, свой, счёт]</td>\n",
       "      <td>[надо_ADV, проверять_V, свой_APRO, счет_S]</td>\n",
       "    </tr>\n",
       "    <tr>\n",
       "      <th>4471</th>\n",
       "      <td>Обратите внимание, там одна из подключенных ус...</td>\n",
       "      <td>0.0</td>\n",
       "      <td>[обратить, внимание, там, один, из, подключить...</td>\n",
       "      <td>[обращать_V, внимание_S, там_ADVPRO, один_APRO...</td>\n",
       "    </tr>\n",
       "    <tr>\n",
       "      <th>6767</th>\n",
       "      <td>Не, мы лучше вас прислоним)\\n</td>\n",
       "      <td>1.0</td>\n",
       "      <td>[не, мы, хороший, вы, прислонить]</td>\n",
       "      <td>[не_PART, мы_SPRO, хороший_A, вы_SPRO, прислон...</td>\n",
       "    </tr>\n",
       "  </tbody>\n",
       "</table>\n",
       "</div>"
      ],
      "text/plain": [
       "                                                 comment  toxic  \\\n",
       "7496   Я, скажем, если лечу из Германии на Урал, то у...    0.0   \n",
       "13230  Первый оратор назвал Россию словом Рашка , а в...    1.0   \n",
       "12316                        Надо проверить свои счета\\n    0.0   \n",
       "4471   Обратите внимание, там одна из подключенных ус...    0.0   \n",
       "6767                       Не, мы лучше вас прислоним)\\n    1.0   \n",
       "\n",
       "                                               norm_text  \\\n",
       "7496   [я, скажем, если, лететь, из, германия, на, ур...   \n",
       "13230  [первый, оратор, назвать, россия, слово, рашка...   \n",
       "12316                      [надо, проверить, свой, счёт]   \n",
       "4471   [обратить, внимание, там, один, из, подключить...   \n",
       "6767                   [не, мы, хороший, вы, прислонить]   \n",
       "\n",
       "                                              tag_mystem  \n",
       "7496   [я_SPRO, скажем_ADV, если_CONJ, лететь_V, из_P...  \n",
       "13230  [первый_ANUM, оратор_S, называть_V, россия_S, ...  \n",
       "12316         [надо_ADV, проверять_V, свой_APRO, счет_S]  \n",
       "4471   [обращать_V, внимание_S, там_ADVPRO, один_APRO...  \n",
       "6767   [не_PART, мы_SPRO, хороший_A, вы_SPRO, прислон...  "
      ]
     },
     "execution_count": 153,
     "metadata": {},
     "output_type": "execute_result"
    }
   ],
   "source": [
    "data.sample(5)"
   ]
  },
  {
   "cell_type": "code",
   "execution_count": 154,
   "id": "f0f3a564",
   "metadata": {},
   "outputs": [],
   "source": [
    "vocab_rv = Counter()\n",
    "\n",
    "for text in data.tag_mystem:\n",
    "    vocab_rv.update(text)"
   ]
  },
  {
   "cell_type": "code",
   "execution_count": 155,
   "id": "be67b873",
   "metadata": {},
   "outputs": [
    {
     "data": {
      "text/plain": [
       "32925"
      ]
     },
     "execution_count": 155,
     "metadata": {},
     "output_type": "execute_result"
    }
   ],
   "source": [
    "len(vocab_rv)"
   ]
  },
  {
   "cell_type": "code",
   "execution_count": 156,
   "id": "b86a21dc",
   "metadata": {},
   "outputs": [],
   "source": [
    "word2id_rv = {'PAD': 0}\n",
    "\n",
    "for word in vocab_rv:\n",
    "    word2id_rv[word] = len(word2id_rv)"
   ]
  },
  {
   "cell_type": "code",
   "execution_count": 157,
   "id": "84f0c037",
   "metadata": {},
   "outputs": [
    {
     "data": {
      "text/plain": [
       "32926"
      ]
     },
     "execution_count": 157,
     "metadata": {},
     "output_type": "execute_result"
    }
   ],
   "source": [
    "len(word2id_rv)"
   ]
  },
  {
   "cell_type": "code",
   "execution_count": 158,
   "id": "1363a773",
   "metadata": {},
   "outputs": [],
   "source": [
    "id2word_rv = {i: word for word, i in word2id_rv.items()}"
   ]
  },
  {
   "cell_type": "code",
   "execution_count": 159,
   "id": "1fec0a23",
   "metadata": {},
   "outputs": [
    {
     "data": {
      "text/plain": [
       "32926"
      ]
     },
     "execution_count": 159,
     "metadata": {},
     "output_type": "execute_result"
    }
   ],
   "source": [
    "len(id2word_rv)"
   ]
  },
  {
   "cell_type": "code",
   "execution_count": 160,
   "id": "e88eabd4",
   "metadata": {},
   "outputs": [],
   "source": [
    "X = []\n",
    "\n",
    "for tokens in data.tag_mystem:\n",
    "    ids = [word2id_rv[token] for token in tokens if token in word2id_rv]\n",
    "    X.append(ids)"
   ]
  },
  {
   "cell_type": "code",
   "execution_count": 161,
   "id": "ab2f0281",
   "metadata": {},
   "outputs": [],
   "source": [
    "X = tf.keras.preprocessing.sequence.pad_sequences(X, maxlen=100)\n",
    "y = data.toxic.values"
   ]
  },
  {
   "cell_type": "code",
   "execution_count": 162,
   "id": "fcb24822",
   "metadata": {},
   "outputs": [],
   "source": [
    "X_train, X_valid, y_train, y_valid = train_test_split(X, y, test_size=0.1)"
   ]
  },
  {
   "cell_type": "code",
   "execution_count": 164,
   "id": "f7da63e8",
   "metadata": {},
   "outputs": [],
   "source": [
    "model = KeyedVectors.load_word2vec_format('model.bin', binary=True)"
   ]
  },
  {
   "cell_type": "code",
   "execution_count": 165,
   "id": "56159b97",
   "metadata": {},
   "outputs": [],
   "source": [
    "weights_rv = np.zeros((len(word2id_rv), 300))\n",
    "\n",
    "for word, i in word2id_rv.items():\n",
    "\n",
    "    if word == 'PAD':\n",
    "        continue\n",
    "\n",
    "    try:\n",
    "        weights_rv[i] = model[word]\n",
    "    \n",
    "    except KeyError:\n",
    "        continue\n",
    "        weights_rv[i] = model['опрагпллирао']"
   ]
  },
  {
   "cell_type": "code",
   "execution_count": 166,
   "id": "98581201",
   "metadata": {},
   "outputs": [],
   "source": [
    "inputs = tf.keras.layers.Input(shape=(100,))\n",
    "\n",
    "embeddings = tf.keras.layers.Embedding(input_dim=len(word2id_rv), output_dim=300, \n",
    "                                       trainable=False,\n",
    "                                       weights=[weights_rv])(inputs, )\n",
    "mean = tf.keras.layers.Lambda(lambda x: tf.keras.backend.mean(x,  axis=1))(embeddings)\n",
    "\n",
    "outputs = tf.keras.layers.Dense(1, activation='sigmoid')(mean)\n",
    "\n",
    "model = tf.keras.Model(inputs=inputs, outputs=outputs)\n",
    "optimizer = tf.keras.optimizers.Adam()\n",
    "model.compile(optimizer=optimizer,\n",
    "              loss='binary_crossentropy',\n",
    "              metrics=['accuracy'])"
   ]
  },
  {
   "cell_type": "code",
   "execution_count": 167,
   "id": "48edaf07",
   "metadata": {},
   "outputs": [
    {
     "name": "stdout",
     "output_type": "stream",
     "text": [
      "Epoch 1/30\n",
      "406/406 [==============================] - 2s 4ms/step - loss: 0.6349 - accuracy: 0.6622 - val_loss: 0.6109 - val_accuracy: 0.6526\n",
      "Epoch 2/30\n",
      "406/406 [==============================] - 2s 4ms/step - loss: 0.6036 - accuracy: 0.6667 - val_loss: 0.6030 - val_accuracy: 0.6526\n",
      "Epoch 3/30\n",
      "406/406 [==============================] - 2s 5ms/step - loss: 0.5995 - accuracy: 0.6667 - val_loss: 0.6000 - val_accuracy: 0.6526\n",
      "Epoch 4/30\n",
      "406/406 [==============================] - 2s 6ms/step - loss: 0.5975 - accuracy: 0.6670 - val_loss: 0.5981 - val_accuracy: 0.6533\n",
      "Epoch 5/30\n",
      "406/406 [==============================] - 2s 5ms/step - loss: 0.5959 - accuracy: 0.6671 - val_loss: 0.5965 - val_accuracy: 0.6533\n",
      "Epoch 6/30\n",
      "406/406 [==============================] - 2s 5ms/step - loss: 0.5947 - accuracy: 0.6678 - val_loss: 0.5954 - val_accuracy: 0.6540\n",
      "Epoch 7/30\n",
      "406/406 [==============================] - 2s 5ms/step - loss: 0.5937 - accuracy: 0.6682 - val_loss: 0.5944 - val_accuracy: 0.6540\n",
      "Epoch 8/30\n",
      "406/406 [==============================] - 2s 5ms/step - loss: 0.5929 - accuracy: 0.6684 - val_loss: 0.5938 - val_accuracy: 0.6546\n",
      "Epoch 9/30\n",
      "406/406 [==============================] - 1s 3ms/step - loss: 0.5922 - accuracy: 0.6687 - val_loss: 0.5931 - val_accuracy: 0.6546\n",
      "Epoch 10/30\n",
      "406/406 [==============================] - 2s 4ms/step - loss: 0.5916 - accuracy: 0.6689 - val_loss: 0.5927 - val_accuracy: 0.6540\n",
      "Epoch 11/30\n",
      "406/406 [==============================] - 2s 5ms/step - loss: 0.5911 - accuracy: 0.6695 - val_loss: 0.5923 - val_accuracy: 0.6546\n",
      "Epoch 12/30\n",
      "406/406 [==============================] - 1s 4ms/step - loss: 0.5906 - accuracy: 0.6697 - val_loss: 0.5920 - val_accuracy: 0.6540\n",
      "Epoch 13/30\n",
      "406/406 [==============================] - 2s 4ms/step - loss: 0.5901 - accuracy: 0.6701 - val_loss: 0.5918 - val_accuracy: 0.6540\n",
      "Epoch 14/30\n",
      "406/406 [==============================] - 2s 5ms/step - loss: 0.5898 - accuracy: 0.6699 - val_loss: 0.5915 - val_accuracy: 0.6546\n",
      "Epoch 15/30\n",
      "406/406 [==============================] - 2s 5ms/step - loss: 0.5894 - accuracy: 0.6703 - val_loss: 0.5913 - val_accuracy: 0.6546\n",
      "Epoch 16/30\n",
      "406/406 [==============================] - 2s 5ms/step - loss: 0.5890 - accuracy: 0.6709 - val_loss: 0.5910 - val_accuracy: 0.6553\n",
      "Epoch 17/30\n",
      "406/406 [==============================] - 1s 3ms/step - loss: 0.5887 - accuracy: 0.6705 - val_loss: 0.5908 - val_accuracy: 0.6553\n",
      "Epoch 18/30\n",
      "406/406 [==============================] - 1s 3ms/step - loss: 0.5884 - accuracy: 0.6719 - val_loss: 0.5906 - val_accuracy: 0.6553\n",
      "Epoch 19/30\n",
      "406/406 [==============================] - 1s 3ms/step - loss: 0.5880 - accuracy: 0.6707 - val_loss: 0.5905 - val_accuracy: 0.6553\n",
      "Epoch 20/30\n",
      "406/406 [==============================] - 2s 4ms/step - loss: 0.5878 - accuracy: 0.6714 - val_loss: 0.5903 - val_accuracy: 0.6588\n",
      "Epoch 21/30\n",
      "406/406 [==============================] - 2s 5ms/step - loss: 0.5876 - accuracy: 0.6719 - val_loss: 0.5901 - val_accuracy: 0.6553\n",
      "Epoch 22/30\n",
      "406/406 [==============================] - 1s 3ms/step - loss: 0.5873 - accuracy: 0.6726 - val_loss: 0.5900 - val_accuracy: 0.6553\n",
      "Epoch 23/30\n",
      "406/406 [==============================] - 1s 3ms/step - loss: 0.5871 - accuracy: 0.6712 - val_loss: 0.5900 - val_accuracy: 0.6546\n",
      "Epoch 24/30\n",
      "406/406 [==============================] - 1s 3ms/step - loss: 0.5869 - accuracy: 0.6712 - val_loss: 0.5898 - val_accuracy: 0.6553\n",
      "Epoch 25/30\n",
      "406/406 [==============================] - 1s 3ms/step - loss: 0.5867 - accuracy: 0.6712 - val_loss: 0.5896 - val_accuracy: 0.6553\n",
      "Epoch 26/30\n",
      "406/406 [==============================] - 1s 3ms/step - loss: 0.5864 - accuracy: 0.6712 - val_loss: 0.5896 - val_accuracy: 0.6553\n",
      "Epoch 27/30\n",
      "406/406 [==============================] - 1s 3ms/step - loss: 0.5863 - accuracy: 0.6709 - val_loss: 0.5894 - val_accuracy: 0.6560\n",
      "Epoch 28/30\n",
      "406/406 [==============================] - 1s 3ms/step - loss: 0.5861 - accuracy: 0.6714 - val_loss: 0.5893 - val_accuracy: 0.6574\n",
      "Epoch 29/30\n",
      "406/406 [==============================] - 1s 4ms/step - loss: 0.5859 - accuracy: 0.6717 - val_loss: 0.5892 - val_accuracy: 0.6567\n",
      "Epoch 30/30\n",
      "406/406 [==============================] - 1s 3ms/step - loss: 0.5857 - accuracy: 0.6716 - val_loss: 0.5890 - val_accuracy: 0.6581\n"
     ]
    },
    {
     "data": {
      "text/plain": [
       "<keras.callbacks.History at 0x7fc894f98970>"
      ]
     },
     "execution_count": 167,
     "metadata": {},
     "output_type": "execute_result"
    }
   ],
   "source": [
    "model.fit(X_train, y_train, \n",
    "          validation_data=(X_valid, y_valid),\n",
    "          batch_size=32,\n",
    "          epochs=30)"
   ]
  },
  {
   "cell_type": "code",
   "execution_count": 168,
   "id": "23159662",
   "metadata": {},
   "outputs": [
    {
     "data": {
      "image/png": "[encoded data removed]",
      "text/plain": [
       "<Figure size 432x288 with 1 Axes>"
      ]
     },
     "metadata": {
      "needs_background": "light"
     },
     "output_type": "display_data"
    }
   ],
   "source": [
    "plt.plot(model.history.history['accuracy'])\n",
    "plt.plot(model.history.history['val_accuracy'])\n",
    "plt.title('model accuracy')\n",
    "plt.ylabel('accuracy')\n",
    "plt.xlabel('epoch')\n",
    "plt.legend(['train', 'val'], loc='upper left')\n",
    "plt.show()"
   ]
  },
  {
   "cell_type": "markdown",
   "id": "0aa4942c",
   "metadata": {},
   "source": [
    "Хорошо, но эффективность все равно низкая... Лучшие варианты оказались с эмбеддингами из 2 задания (gensim)."
   ]
  }
 ],
 "metadata": {
  "kernelspec": {
   "display_name": "Python 3",
   "language": "python",
   "name": "python3"
  },
  "language_info": {
   "codemirror_mode": {
    "name": "ipython",
    "version": 3
   },
   "file_extension": ".py",
   "mimetype": "text/x-python",
   "name": "python",
   "nbconvert_exporter": "python",
   "pygments_lexer": "ipython3",
   "version": "3.8.8"
  }
 },
 "nbformat": 4,
 "nbformat_minor": 5
}
