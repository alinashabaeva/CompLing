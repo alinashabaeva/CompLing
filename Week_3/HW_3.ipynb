{
 "cells": [
  {
   "cell_type": "markdown",
   "id": "0da8e2fc",
   "metadata": {},
   "source": [
    "# Домашнее задание № 3. Исправление опечаток"
   ]
  },
  {
   "cell_type": "markdown",
   "id": "b1330fe3",
   "metadata": {},
   "source": [
    "# 1. Доп. ранжирование по вероятности (3 балла)"
   ]
  },
  {
   "cell_type": "markdown",
   "id": "6a48cb8b",
   "metadata": {},
   "source": [
    "Дополните get_closest_hybrid_match в семинаре так, чтобы из кандадатов с одинаковым расстоянием редактирования выбиралось наиболее вероятное."
   ]
  },
  {
   "cell_type": "code",
   "execution_count": 1,
   "id": "0e9fb004",
   "metadata": {},
   "outputs": [],
   "source": [
    "import os, re\n",
    "from string import punctuation\n",
    "import numpy as np\n",
    "import json\n",
    "from collections import Counter\n",
    "from pprint import pprint\n",
    "from nltk import sent_tokenize\n",
    "punctuation += \"«»—…“”\"\n",
    "punct = set(punctuation)\n",
    "from sklearn.metrics import classification_report, accuracy_score\n",
    "from sklearn.feature_extraction.text import CountVectorizer, TfidfVectorizer\n",
    "from sklearn.metrics.pairwise import cosine_similarity, cosine_distances\n",
    "from string import punctuation\n",
    "from razdel import sentenize\n",
    "from razdel import tokenize as razdel_tokenize\n",
    "import numpy as np\n",
    "from collections import Counter"
   ]
  },
  {
   "cell_type": "code",
   "execution_count": 2,
   "id": "1501079a",
   "metadata": {},
   "outputs": [],
   "source": [
    "corpus = open('wiki_data.txt', encoding='utf8').read()"
   ]
  },
  {
   "cell_type": "code",
   "execution_count": 3,
   "id": "da2cc48e",
   "metadata": {},
   "outputs": [],
   "source": [
    "bad = open('sents_with_mistakes.txt', encoding='utf8').read().splitlines()\n",
    "true = open('correct_sents.txt', encoding='utf8').read().splitlines()"
   ]
  },
  {
   "cell_type": "code",
   "execution_count": 4,
   "id": "135aa8c6",
   "metadata": {},
   "outputs": [],
   "source": [
    "vocab = Counter(re.findall('\\w+', corpus.lower()))"
   ]
  },
  {
   "cell_type": "code",
   "execution_count": 5,
   "id": "d0686e2e",
   "metadata": {},
   "outputs": [
    {
     "name": "stdout",
     "output_type": "stream",
     "text": [
      "Requirement already satisfied: textdistance in /Users/AlyaMac/opt/anaconda3/lib/python3.8/site-packages (4.2.1)\r\n"
     ]
    }
   ],
   "source": [
    "!pip install textdistance"
   ]
  },
  {
   "cell_type": "code",
   "execution_count": 6,
   "id": "f72c247d",
   "metadata": {},
   "outputs": [],
   "source": [
    "import textdistance"
   ]
  },
  {
   "cell_type": "code",
   "execution_count": 7,
   "id": "98f7eae6",
   "metadata": {},
   "outputs": [],
   "source": [
    "def get_closest_match_with_metric(text, lookup,topn=20, metric=textdistance.levenshtein):\n",
    "    similarities = Counter()\n",
    "    \n",
    "    for word in lookup:\n",
    "        similarities[word] = metric.normalized_similarity(text, word) \n",
    "    \n",
    "    return similarities.most_common(topn)\n",
    "\n",
    "def get_closest_hybrid_match(text, X, vec, topn=5, metric=textdistance.damerau_levenshtein):\n",
    "    candidates = get_closest_match_vec(text, X, vec, topn*4)\n",
    "    lookup = [cand[0] for cand in candidates]\n",
    "    closest = get_closest_match_with_metric(text, lookup, topn, metric=metric)\n",
    "    closest_with_freq = [(word, dist, P(text, N)) for word, dist in closest]\n",
    "\n",
    "    return sorted(closest_with_freq, key=lambda x: (x[1], x[2]), reverse=True)\n",
    "\n",
    "\n",
    "def get_closest_match_vec(text, X, vec, topn=20):\n",
    "    v = vec.transform([text])\n",
    "    similarities = cosine_distances(v, X)[0]\n",
    "    topn = similarities.argsort()[:topn]\n",
    "    \n",
    "    return[(id2word[top], similarities[top]) for top in topn]\n",
    "\n",
    "    \n",
    "\n",
    "N = sum(vocab.values())\n",
    "\n",
    "def P(word, N=N):\n",
    "    return vocab[word] / N\n",
    "\n",
    "def predict_mistaken(word, vocab):\n",
    "    return 0 if word in vocab else 1"
   ]
  },
  {
   "cell_type": "code",
   "execution_count": 8,
   "id": "18f26e77",
   "metadata": {},
   "outputs": [],
   "source": [
    "word2id = list(vocab.keys())\n",
    "id2word = {i:word for i, word in enumerate(vocab)}\n",
    "\n",
    "\n",
    "vec = CountVectorizer(analyzer='char', ngram_range=(1,3), max_features=1000)\n",
    "X = vec.fit_transform(vocab)"
   ]
  },
  {
   "cell_type": "code",
   "execution_count": 9,
   "id": "c1d37b00",
   "metadata": {},
   "outputs": [
    {
     "data": {
      "text/plain": [
       "[('грибы', 0.8333333333333334, 0.0),\n",
       " ('грубый', 0.8333333333333334, 0.0),\n",
       " ('игривый', 0.7142857142857143, 0.0),\n",
       " ('грибным', 0.7142857142857143, 0.0),\n",
       " ('грибные', 0.7142857142857143, 0.0)]"
      ]
     },
     "execution_count": 9,
     "metadata": {},
     "output_type": "execute_result"
    }
   ],
   "source": [
    "get_closest_hybrid_match('грибый', X, vec)"
   ]
  },
  {
   "cell_type": "code",
   "execution_count": 10,
   "id": "3e076e34",
   "metadata": {},
   "outputs": [
    {
     "data": {
      "text/plain": [
       "[('честный', 0.8571428571428572, 0.0),\n",
       " ('темный', 0.7142857142857143, 0.0),\n",
       " ('тесный', 0.7142857142857143, 0.0),\n",
       " ('бесшумный', 0.6666666666666667, 0.0),\n",
       " ('месячный', 0.625, 0.0)]"
      ]
     },
     "execution_count": 10,
     "metadata": {},
     "output_type": "execute_result"
    }
   ],
   "source": [
    "get_closest_hybrid_match('чесмный', X, vec)"
   ]
  },
  {
   "cell_type": "markdown",
   "id": "2183b76e",
   "metadata": {},
   "source": [
    "# 2. Symspell (5 баллов)"
   ]
  },
  {
   "cell_type": "markdown",
   "id": "abc87300",
   "metadata": {},
   "source": [
    "Реализуйте алгоритм Symspell. Он похож на алгоритм Норвига, но проще и быстрее. Там к словам применяется только одна операция - удаление символа. Описание алгоритма по шагам:\n",
    "\n",
    "1) Составляется словарь правильных слов\n",
    "2) На основе словаря правильных слов составляется словарь удалений - для каждого правильного слова создаются все варианты удалений и создается словарь, где ключ - слово с удалением, а значение - правильное слово\n",
    "3) Для выбора исправления для слова с опечаткой генерируются все варианты удаления, из них выбираются те, что есть в словаре удалений, построенного на шаге 2. Слово с опечаткой заменяется на правильное слово, соответствующее варианту удаления\n",
    "4) Если в словаре удалений есть несколько вариантов, то выбирается удаление, которому соответствует наиболее вероятное правильное слово\n",
    "\n",
    "Оцените качество полученного алгоритма теми же тремя метриками."
   ]
  },
  {
   "cell_type": "code",
   "execution_count": 11,
   "id": "a31f7845",
   "metadata": {},
   "outputs": [],
   "source": [
    "correct_dic = list(vocab.keys())"
   ]
  },
  {
   "cell_type": "code",
   "execution_count": 12,
   "id": "1094babe",
   "metadata": {},
   "outputs": [],
   "source": [
    "deleted_dic = {}\n",
    "for word in correct_dic:\n",
    "    for i in range(len(word)):\n",
    "        wwd = word[0:i] + word[i+1:]\n",
    "        if wwd in deleted_dic.keys():\n",
    "            deleted_dic[wwd] = deleted_dic[wwd] + [word]\n",
    "        else:\n",
    "            deleted_dic[wwd] = [word]"
   ]
  },
  {
   "cell_type": "code",
   "execution_count": 13,
   "id": "8e99b41f",
   "metadata": {},
   "outputs": [],
   "source": [
    "def fix_errors(text, deleted_dic):\n",
    "    similar = set()\n",
    "    for i in range(len(text)):\n",
    "        if text[0:i] + text[i+1:] in deleted_dic.keys():\n",
    "            for word in deleted_dic[text[0:i]  + text[i+1:]]:\n",
    "                similar.add(word)\n",
    "    similar_freq = [(word, P(word, N)) for word in similar]\n",
    "    if len(similar_freq) == 0:\n",
    "        return ' '\n",
    "    return sorted(similar_freq, key=lambda x: x[1], reverse=True)"
   ]
  },
  {
   "cell_type": "code",
   "execution_count": 14,
   "id": "775a072f",
   "metadata": {},
   "outputs": [
    {
     "data": {
      "text/plain": [
       "[('грубый', 1.745783302901744e-06)]"
      ]
     },
     "execution_count": 14,
     "metadata": {},
     "output_type": "execute_result"
    }
   ],
   "source": [
    "fix_errors('грибый', deleted_dic)"
   ]
  },
  {
   "cell_type": "code",
   "execution_count": 15,
   "id": "ce5ba6b1",
   "metadata": {},
   "outputs": [
    {
     "data": {
      "text/plain": [
       "[('честный', 1.5518073803571057e-06)]"
      ]
     },
     "execution_count": 15,
     "metadata": {},
     "output_type": "execute_result"
    }
   ],
   "source": [
    "fix_errors('чесмный', deleted_dic)"
   ]
  },
  {
   "cell_type": "code",
   "execution_count": 16,
   "id": "2cde4309",
   "metadata": {},
   "outputs": [
    {
     "name": "stdout",
     "output_type": "stream",
     "text": [
      "0\n",
      "100\n",
      "200\n",
      "300\n",
      "400\n",
      "500\n",
      "600\n",
      "700\n",
      "800\n",
      "900\n"
     ]
    }
   ],
   "source": [
    "def align_words(sent_1, sent_2):\n",
    "    tokens_1 = sent_1.lower().split()\n",
    "    tokens_2 = sent_2.lower().split()\n",
    "    \n",
    "    tokens_1 = [token.strip(punctuation) for token in tokens_1]\n",
    "    tokens_2 = [token.strip(punctuation) for token in tokens_2]\n",
    "    \n",
    "    tokens_1 = [token for token in tokens_1 if token]\n",
    "    tokens_2 = [token for token in tokens_2 if token]\n",
    "    \n",
    "    assert len(tokens_1) == len(tokens_2)\n",
    "    \n",
    "    return list(zip(tokens_1, tokens_2))\n",
    "\n",
    "total_mistaken = 0\n",
    "mistaken_fixed = 0\n",
    "\n",
    "total_correct = 0\n",
    "correct_broken = 0\n",
    "\n",
    "total = 0\n",
    "correct = 0\n",
    "\n",
    "mistakes = []\n",
    "\n",
    "cashed = {}\n",
    "for i in range(len(true)):\n",
    "    word_pairs = align_words(true[i], bad[i])\n",
    "    for pair in word_pairs:\n",
    "        if predict_mistaken(pair[1], vocab):\n",
    "            pred = cashed.get(pair[1], fix_errors(pair[1], deleted_dic)[0][0])\n",
    "            cashed[pair[1]] = pred\n",
    "            \n",
    "        else:\n",
    "            pred = pair[1]\n",
    "            \n",
    "        if pred == pair[0]:\n",
    "            correct += 1\n",
    "            \n",
    "        else:\n",
    "            mistakes.append((pair[0], pair[1], pred))\n",
    "        total += 1\n",
    "        \n",
    "        if pair[0] == pair[1]:\n",
    "            total_correct += 1\n",
    "            if pair[0] != pred:\n",
    "                correct_broken += 1\n",
    "        else:\n",
    "            total_mistaken += 1\n",
    "            if pair[0] == pred:\n",
    "                mistaken_fixed += 1\n",
    "                \n",
    "    if not i % 100:\n",
    "        print(i)\n",
    "    \n",
    "    "
   ]
  },
  {
   "cell_type": "code",
   "execution_count": 17,
   "id": "714ca4c6",
   "metadata": {},
   "outputs": [
    {
     "name": "stdout",
     "output_type": "stream",
     "text": [
      "0.8185092546273136\n",
      "0.20031055900621117\n",
      "0.09004249454461927\n"
     ]
    }
   ],
   "source": [
    "print(correct / total)\n",
    "print(mistaken_fixed / total_mistaken)\n",
    "print(correct_broken / total_correct)"
   ]
  }
 ],
 "metadata": {
  "kernelspec": {
   "display_name": "Python 3",
   "language": "python",
   "name": "python3"
  },
  "language_info": {
   "codemirror_mode": {
    "name": "ipython",
    "version": 3
   },
   "file_extension": ".py",
   "mimetype": "text/x-python",
   "name": "python",
   "nbconvert_exporter": "python",
   "pygments_lexer": "ipython3",
   "version": "3.8.8"
  }
 },
 "nbformat": 4,
 "nbformat_minor": 5
}
